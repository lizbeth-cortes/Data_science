{
  "cells": [
    {
      "cell_type": "markdown",
      "metadata": {
        "id": "view-in-github",
        "colab_type": "text"
      },
      "source": [
        "<a href=\"https://colab.research.google.com/github/lizbeth-cortes/Data_science/blob/main/M1_S2_R2.ipynb\" target=\"_parent\"><img src=\"https://colab.research.google.com/assets/colab-badge.svg\" alt=\"Open In Colab\"/></a>"
      ]
    },
    {
      "cell_type": "markdown",
      "metadata": {
        "id": "h-FEdEPZlmAm"
      },
      "source": [
        "## Reto 2: Modificando listas\n",
        "\n",
        "### 1. Objetivos:\n",
        "    - Practicar el uso de los métodos `append` `pop`.\n",
        "\n",
        "---\n",
        "    \n",
        "### 2. Desarrollo:"
      ]
    },
    {
      "cell_type": "markdown",
      "metadata": {
        "id": "a9oxxxX3lmAr"
      },
      "source": [
        "#### a) Modificar para eliminar diferencias\n",
        "\n",
        "Debajo tienes dos listas definidas:"
      ]
    },
    {
      "cell_type": "code",
      "execution_count": null,
      "metadata": {
        "id": "azPQ-JeClmAs"
      },
      "outputs": [],
      "source": [
        "lista_1 = [3.4, 0.7, 99.9, 5.41, 6.23, 7.9]\n",
        "\n",
        "lista_2 = [3.4, 63.4, 0.7, 6.46, 99.9, 2.2, 5.41]\n",
        "\n",
        "# Tu código va aquí\n",
        "lista_2.pop(1)\n",
        "lista_2.pop(2)\n",
        "lista_2.pop(3)\n",
        "lista_2.append(6.23)\n",
        "lista_2.append(7.9)"
      ]
    },
    {
      "cell_type": "markdown",
      "metadata": {
        "id": "rcAx_gD-lmAu"
      },
      "source": [
        "Ahora, tienes una `sentencia if` que utiliza una comparación entre las dos listas:"
      ]
    },
    {
      "cell_type": "code",
      "execution_count": null,
      "metadata": {
        "id": "_fc8yi8BlmAv",
        "colab": {
          "base_uri": "https://localhost:8080/"
        },
        "outputId": "73ec8238-42aa-470e-804b-80c60e244b6c"
      },
      "outputs": [
        {
          "output_type": "stream",
          "name": "stdout",
          "text": [
            "Tú y yo somos uno mismo\n"
          ]
        }
      ],
      "source": [
        "if lista_1 == lista_2:\n",
        "    print(\"Tú y yo somos uno mismo\")"
      ]
    },
    {
      "cell_type": "markdown",
      "metadata": {
        "id": "HMpX4KUXlmAv"
      },
      "source": [
        "Donde dice `tu código va aquí` agrega modificaciones a la **lista_2** para lograr que ambas listas sean idénticas y el bello mensaje \"Tú y yo somos uno mismo\" se imprima. Puedes usar tanto `pop` como `append`, pero **sólo puedes modificar la lista_2**."
      ]
    },
    {
      "cell_type": "markdown",
      "metadata": {
        "id": "knRoIhWmlmAw"
      },
      "source": [
        "<details><summary>Solución</summary>\n",
        "\n",
        "```python\n",
        "# El orden podría ser diferente\n",
        "    \n",
        "lista_2.pop(1)\n",
        "lista_2.pop(2)\n",
        "lista_2.pop(3)\n",
        "lista_2.append(6.23)\n",
        "lista_2.append(7.9)\n",
        "\n",
        "```\n",
        "    \n",
        "</details>"
      ]
    },
    {
      "cell_type": "markdown",
      "metadata": {
        "id": "-w6_r3sSlmAx"
      },
      "source": [
        "#### b) Corrigiendo fragmentos\n",
        "\n",
        "Debajo hay un muy pequeño fragmento del capítulo 68 de la novela \"Rayuela\" de Julio Cortázar ([Lo puedes leer aquí](https://ciudadseva.com/texto/rayuela-capitulo-68/)). Este fragmento ha sido modificado, como fácilmente podrás ver. Además, el fragmento termina con un oración inconclusa:"
      ]
    },
    {
      "cell_type": "code",
      "execution_count": null,
      "metadata": {
        "id": "DifvMLtVlmAx",
        "colab": {
          "base_uri": "https://localhost:8080/",
          "height": 35
        },
        "outputId": "92c0bf96-26da-4292-851d-08b548945b6a"
      },
      "outputs": [
        {
          "output_type": "execute_result",
          "data": {
            "text/plain": [
              "'distales'"
            ],
            "application/vnd.google.colaboratory.intrinsic+json": {
              "type": "string"
            }
          },
          "metadata": {},
          "execution_count": 17
        }
      ],
      "source": [
        "fragmento_fragmentado = ['Apenas', 'él', 'le', 'amalaba', 'hidrolizado' ,'el', 'noema,',\n",
        "                         'a', 'ella', 'se', 'le', 'agolpaba', 'el', 'clémiso', 'súbito',\n",
        "                         'y', 'caían', 'en', 'fermales', 'hidromurias,', 'en', 'salvajes', 'ambonios,',\n",
        "                         'en', 'sustalos', 'distales', 'exasperantes.',\n",
        "                         'Cada', 'vez', 'que', 'él', 'procuraba', 'relamar', 'las', 'incopelusas,']\n",
        "\n",
        "# Tu código va aquí\n",
        "fragmento_fragmentado.pop(4)\n",
        "fragmento_fragmentado.pop(13)\n",
        "fragmento_fragmentado.pop(16)\n",
        "fragmento_fragmentado.pop(22)\n"
      ]
    },
    {
      "cell_type": "markdown",
      "metadata": {
        "id": "0hFZWNYQlmAy"
      },
      "source": [
        "Debajo hay código que toma la lista de arriba e imprime el fragmento en forma de texto. Tu reto es eliminar todas las modificaciones que han sido hechas al texto de Cortázar usando el método `pop`. Al terminar, puedes, si así lo deseas, agregar tu propio final a la oración inconclusa usando el método `append`.\n",
        "\n",
        "El resultado será una colaboración tuya y de Cortázar:"
      ]
    },
    {
      "cell_type": "code",
      "execution_count": null,
      "metadata": {
        "id": "LpTMLst7lmAy",
        "colab": {
          "base_uri": "https://localhost:8080/"
        },
        "outputId": "95efcdf5-ef34-42d7-a0ac-ad94ae627f8a"
      },
      "outputs": [
        {
          "output_type": "stream",
          "name": "stdout",
          "text": [
            "==Colaboración póstuma de Córtazar y Lizbeth==\n",
            "\n",
            "Apenas él le amalaba el noema, a ella se le agolpaba el clémiso y caían en hidromurias, en salvajes ambonios, en sustalos exasperantes. Cada vez que él procuraba relamar las incopelusas,\n"
          ]
        }
      ],
      "source": [
        "tu_nombre = \"Lizbeth\"  # Tu nombre va aquí\n",
        "\n",
        "print(f'==Colaboración póstuma de Córtazar y {tu_nombre}==\\n')\n",
        "print(f'{\" \".join(fragmento_fragmentado)}')"
      ]
    },
    {
      "cell_type": "markdown",
      "metadata": {
        "id": "pNZPMN3xlmAy"
      },
      "source": [
        "<details><summary>Solución</summary>\n",
        "\n",
        "```python\n",
        "# La colaboración (lo que va en el append) podría ser distinta. En caso de que sea igual, tal vez estemos entrelazados cuánticamente. ¡Búscame!\n",
        "    \n",
        "fragmento_fragmentado.pop(4)\n",
        "fragmento_fragmentado.pop(12)\n",
        "fragmento_fragmentado.pop(15)\n",
        "fragmento_fragmentado.pop(21)\n",
        "fragmento.append(\"se dirimían en conjunto: flémalos, húmalos, y vivosos estallidos\"\n",
        "```\n",
        "    \n",
        "</details>"
      ]
    },
    {
      "cell_type": "code",
      "execution_count": null,
      "metadata": {
        "id": "PpXgT382lmAz"
      },
      "outputs": [],
      "source": []
    }
  ],
  "metadata": {
    "kernelspec": {
      "display_name": "Python (data_science)",
      "language": "python",
      "name": "data_science"
    },
    "language_info": {
      "codemirror_mode": {
        "name": "ipython",
        "version": 3
      },
      "file_extension": ".py",
      "mimetype": "text/x-python",
      "name": "python",
      "nbconvert_exporter": "python",
      "pygments_lexer": "ipython3",
      "version": "3.8.5"
    },
    "colab": {
      "provenance": [],
      "include_colab_link": true
    }
  },
  "nbformat": 4,
  "nbformat_minor": 0
}