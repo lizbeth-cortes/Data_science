{
  "cells": [
    {
      "cell_type": "markdown",
      "metadata": {
        "id": "view-in-github",
        "colab_type": "text"
      },
      "source": [
        "<a href=\"https://colab.research.google.com/github/lizbeth-cortes/Data_science/blob/main/M1_S4_R1.ipynb\" target=\"_parent\"><img src=\"https://colab.research.google.com/assets/colab-badge.svg\" alt=\"Open In Colab\"/></a>"
      ]
    },
    {
      "cell_type": "markdown",
      "metadata": {
        "id": "n5SZTdVvzK7-"
      },
      "source": [
        "## Reto 1: Series\n",
        "\n",
        "### 1. Objetivos:\n",
        "    - Practicar la creación de `Series` y la indexación básica de éstas\n",
        "\n",
        "---\n",
        "    \n",
        "### 2. Desarrollo:"
      ]
    },
    {
      "cell_type": "code",
      "execution_count": null,
      "metadata": {
        "id": "u_yV8xINzK8B"
      },
      "outputs": [],
      "source": [
        "import pandas as pd"
      ]
    },
    {
      "cell_type": "markdown",
      "metadata": {
        "id": "tSQR5bIbzK8C"
      },
      "source": [
        "#### a) Creación de `Series`\n",
        "\n",
        "A continuación tenemos unas variables que contienen los nombres de los ejecutivos más importantes de nuestra ya conocida EyePoker Inc. Debajo de eso hay una variable que no ha sido asignada aún:"
      ]
    },
    {
      "cell_type": "code",
      "execution_count": null,
      "metadata": {
        "id": "VbE8aXDrzK8D"
      },
      "outputs": [],
      "source": [
        "ejecutivo_1 = 'Marco P.'\n",
        "ejecutivo_2 = 'Jenny'\n",
        "ejecutivo_3 = 'Britney Baby'\n",
        "ejecutivo_4 = 'Pepe Guardabosques'\n",
        "ejecutivo_5 = 'Lombardo El Destructor'\n",
        "\n",
        "sueldos = pd.Series([10000,15000,13000,20000,22000],index = [ejecutivo_1,ejecutivo_2,ejecutivo_3,ejecutivo_4,ejecutivo_5])"
      ]
    },
    {
      "cell_type": "markdown",
      "metadata": {
        "id": "8M7-U9ZbzK8D"
      },
      "source": [
        "Tu tarea es crear una `Serie` de `pandas` y asignarla a la variable `sueldos`. La información que hay dentro de esta variable son (oh, sorpresa) los sueldos de dichos ejecutivos.\n",
        "\n",
        "Los valores de la `Serie` serán los sueldos, mientras que el índice de la `Serie` serán los nombres de los ejecutivos.\n",
        "\n",
        "Crea una `Serie` y asígnala a `sueldos` de manera que el código que tenemos debajo funcione correctamente:"
      ]
    },
    {
      "cell_type": "code",
      "execution_count": null,
      "metadata": {
        "id": "xaibJpClzK8D",
        "colab": {
          "base_uri": "https://localhost:8080/"
        },
        "outputId": "292f01f2-35d5-4a8f-da64-fe54b117d384"
      },
      "outputs": [
        {
          "output_type": "stream",
          "name": "stdout",
          "text": [
            "== Sueldos de los principales ejecutivos de EyePoker Inc. ==\n",
            "\n",
            "Ejecutivo                 | Sueldo\n",
            "----------------------------------------\n",
            "Marco P.                  | $10000 MXN\n",
            "Jenny                     | $15000 MXN\n",
            "Britney Baby              | $13000 MXN\n",
            "Pepe Guardabosques        | $20000 MXN\n",
            "Lombardo El Destructor    | $22000 MXN\n"
          ]
        }
      ],
      "source": [
        "print('== Sueldos de los principales ejecutivos de EyePoker Inc. ==\\n')\n",
        "\n",
        "print(f'{(\"Ejecutivo\"):25} | {(\"Sueldo\")}')\n",
        "print('----------------------------------------')\n",
        "print(f'{ejecutivo_1:25} | ${(sueldos.loc[ejecutivo_1])} MXN')\n",
        "print(f'{ejecutivo_2:25} | ${(sueldos.loc[ejecutivo_2])} MXN')\n",
        "print(f'{ejecutivo_3:25} | ${(sueldos.loc[ejecutivo_3])} MXN')\n",
        "print(f'{ejecutivo_4:25} | ${(sueldos.loc[ejecutivo_4])} MXN')\n",
        "print(f'{ejecutivo_5:25} | ${(sueldos.loc[ejecutivo_5])} MXN')"
      ]
    },
    {
      "cell_type": "markdown",
      "metadata": {
        "id": "0DKpXpgjzK8E"
      },
      "source": [
        "<details><summary>Solución</summary>\n",
        "\n",
        "```python\n",
        "sueldos = pd.Series([120000, 110000, 130000, 110000, 130000], index=[ejecutivo_1, ejecutivo_2, ejecutivo_3, ejecutivo_4, ejecutivo_5])\n",
        "```\n",
        "    \n",
        "</details>"
      ]
    },
    {
      "cell_type": "code",
      "execution_count": null,
      "metadata": {
        "id": "g86w3XJlzK8F"
      },
      "outputs": [],
      "source": []
    }
  ],
  "metadata": {
    "kernelspec": {
      "display_name": "Python (data_science)",
      "language": "python",
      "name": "data_science"
    },
    "language_info": {
      "codemirror_mode": {
        "name": "ipython",
        "version": 3
      },
      "file_extension": ".py",
      "mimetype": "text/x-python",
      "name": "python",
      "nbconvert_exporter": "python",
      "pygments_lexer": "ipython3",
      "version": "3.8.5"
    },
    "colab": {
      "provenance": [],
      "include_colab_link": true
    }
  },
  "nbformat": 4,
  "nbformat_minor": 0
}