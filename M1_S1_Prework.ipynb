{
  "nbformat": 4,
  "nbformat_minor": 0,
  "metadata": {
    "colab": {
      "provenance": [],
      "authorship_tag": "ABX9TyOaz6iBk2mqeQxcuAhRe6Vb",
      "include_colab_link": true
    },
    "kernelspec": {
      "name": "python3",
      "display_name": "Python 3"
    },
    "language_info": {
      "name": "python"
    }
  },
  "cells": [
    {
      "cell_type": "markdown",
      "metadata": {
        "id": "view-in-github",
        "colab_type": "text"
      },
      "source": [
        "<a href=\"https://colab.research.google.com/github/lizbeth-cortes/Data_science/blob/main/M1_S1_Prework.ipynb\" target=\"_parent\"><img src=\"https://colab.research.google.com/assets/colab-badge.svg\" alt=\"Open In Colab\"/></a>"
      ]
    },
    {
      "cell_type": "markdown",
      "source": [
        "#Introducción a COLAB NOTEBOOKS\n",
        "##Esto es un título mediano\n",
        "###Esto es un título más pequeño\n",
        "Esto es texto simple\n",
        "- Esta\n",
        "- es\n",
        "- una\n",
        "- lista"
      ],
      "metadata": {
        "id": "Ka-zxKH1DehM"
      }
    },
    {
      "cell_type": "code",
      "execution_count": null,
      "metadata": {
        "id": "elNgwtXEBoGv",
        "colab": {
          "base_uri": "https://localhost:8080/"
        },
        "outputId": "264dd1b0-7650-4b15-caf7-189844dd007d"
      },
      "outputs": [
        {
          "output_type": "execute_result",
          "data": {
            "text/plain": [
              "7"
            ]
          },
          "metadata": {},
          "execution_count": 2
        }
      ],
      "source": [
        "var1 = 3\n",
        "var2 = 4\n",
        "var1 + var2"
      ]
    },
    {
      "cell_type": "code",
      "execution_count": null,
      "metadata": {
        "colab": {
          "base_uri": "https://localhost:8080/"
        },
        "outputId": "26fb221b-d13f-4e34-a7ea-35e72df56796",
        "id": "kbPMtcRDEnow"
      },
      "outputs": [
        {
          "output_type": "execute_result",
          "data": {
            "text/plain": [
              "-1"
            ]
          },
          "metadata": {},
          "execution_count": 3
        }
      ],
      "source": [
        "var1 = 3\n",
        "var2 = 4\n",
        "var1 - var2"
      ]
    },
    {
      "cell_type": "code",
      "source": [
        "variable_1=10\n",
        "variable_2=15\n",
        "variable_3=20\n",
        "variable_4=2\n",
        "variable_5=16"
      ],
      "metadata": {
        "id": "DXxoSr4WFRyG"
      },
      "execution_count": null,
      "outputs": []
    },
    {
      "cell_type": "code",
      "source": [
        "variable_1+variable_2"
      ],
      "metadata": {
        "colab": {
          "base_uri": "https://localhost:8080/"
        },
        "id": "dPG5OhXPFfFW",
        "outputId": "9ccbfa7e-76d6-47ca-aa09-3bc5acae1601"
      },
      "execution_count": null,
      "outputs": [
        {
          "output_type": "execute_result",
          "data": {
            "text/plain": [
              "25"
            ]
          },
          "metadata": {},
          "execution_count": 7
        }
      ]
    },
    {
      "cell_type": "code",
      "source": [
        "variable_3 - variable_4"
      ],
      "metadata": {
        "colab": {
          "base_uri": "https://localhost:8080/"
        },
        "id": "f0gkF98SGAKL",
        "outputId": "d09671de-c9a7-496c-98ad-f8f1cfaf4f58"
      },
      "execution_count": null,
      "outputs": [
        {
          "output_type": "execute_result",
          "data": {
            "text/plain": [
              "18"
            ]
          },
          "metadata": {},
          "execution_count": 8
        }
      ]
    },
    {
      "cell_type": "code",
      "source": [
        "variable_1*(variable_2+variable_3)"
      ],
      "metadata": {
        "colab": {
          "base_uri": "https://localhost:8080/"
        },
        "id": "0Qhg7JmNGEql",
        "outputId": "2344f9d5-a013-4d56-e67a-30ee19e222e4"
      },
      "execution_count": null,
      "outputs": [
        {
          "output_type": "execute_result",
          "data": {
            "text/plain": [
              "350"
            ]
          },
          "metadata": {},
          "execution_count": 9
        }
      ]
    },
    {
      "cell_type": "code",
      "source": [
        "(variable_5 - variable_3)/variable_2"
      ],
      "metadata": {
        "colab": {
          "base_uri": "https://localhost:8080/"
        },
        "id": "CSgAvQMyGLEe",
        "outputId": "05dfae4b-d388-4443-936e-3e077ba0413a"
      },
      "execution_count": null,
      "outputs": [
        {
          "output_type": "execute_result",
          "data": {
            "text/plain": [
              "-0.26666666666666666"
            ]
          },
          "metadata": {},
          "execution_count": 10
        }
      ]
    },
    {
      "cell_type": "code",
      "source": [
        "print(variable_2+variable_4)\n",
        "print(variable_5)\n",
        "print(variable_4 - variable_1)"
      ],
      "metadata": {
        "colab": {
          "base_uri": "https://localhost:8080/"
        },
        "id": "J9MH5ceLGWvR",
        "outputId": "08faa288-a676-422a-b490-8263cc97440f"
      },
      "execution_count": null,
      "outputs": [
        {
          "output_type": "stream",
          "name": "stdout",
          "text": [
            "17\n",
            "16\n",
            "-8\n"
          ]
        }
      ]
    },
    {
      "cell_type": "markdown",
      "source": [
        "#TIPOS DE DATOS"
      ],
      "metadata": {
        "id": "oyU5SzoZGpR_"
      }
    },
    {
      "cell_type": "code",
      "source": [
        "variable_int =1\n",
        "variable_float = 3.4\n",
        "variable_str  =\"Hola, soy texto\""
      ],
      "metadata": {
        "id": "A5Z9D1czGznc"
      },
      "execution_count": null,
      "outputs": []
    },
    {
      "cell_type": "code",
      "source": [
        "type(variable_int)"
      ],
      "metadata": {
        "colab": {
          "base_uri": "https://localhost:8080/"
        },
        "id": "udQuQyGgG7MD",
        "outputId": "d356315b-e5fb-4061-cbd0-ffe810d51004"
      },
      "execution_count": null,
      "outputs": [
        {
          "output_type": "execute_result",
          "data": {
            "text/plain": [
              "int"
            ]
          },
          "metadata": {},
          "execution_count": 13
        }
      ]
    },
    {
      "cell_type": "code",
      "source": [
        "type(variable_float)"
      ],
      "metadata": {
        "colab": {
          "base_uri": "https://localhost:8080/"
        },
        "id": "Fr8L7CGaG_E0",
        "outputId": "dac45c78-4559-42eb-da5f-07491771aafa"
      },
      "execution_count": null,
      "outputs": [
        {
          "output_type": "execute_result",
          "data": {
            "text/plain": [
              "float"
            ]
          },
          "metadata": {},
          "execution_count": 14
        }
      ]
    },
    {
      "cell_type": "code",
      "source": [
        "print(type(variable_int))\n",
        "print(type(variable_float))"
      ],
      "metadata": {
        "colab": {
          "base_uri": "https://localhost:8080/"
        },
        "id": "XIzYa7I-HDoJ",
        "outputId": "ae66fefd-8ac4-4a27-eaab-d4a1f5745b17"
      },
      "execution_count": null,
      "outputs": [
        {
          "output_type": "stream",
          "name": "stdout",
          "text": [
            "<class 'int'>\n",
            "<class 'float'>\n"
          ]
        }
      ]
    },
    {
      "cell_type": "code",
      "source": [
        "print(\"Suma\")\n",
        "print(variable_1+variable_2)\n",
        "print(\"Resta\")\n",
        "print(variable_3-variable_4)"
      ],
      "metadata": {
        "colab": {
          "base_uri": "https://localhost:8080/"
        },
        "id": "opgSFIzlHWsH",
        "outputId": "3868c3ab-cb52-432d-a4b3-23bdc6f145b8"
      },
      "execution_count": null,
      "outputs": [
        {
          "output_type": "stream",
          "name": "stdout",
          "text": [
            "Suma\n",
            "25\n",
            "Resta\n",
            "18\n"
          ]
        }
      ]
    },
    {
      "cell_type": "markdown",
      "source": [
        "###Interpolación de string"
      ],
      "metadata": {
        "id": "v5QS5F9cIRxz"
      }
    },
    {
      "cell_type": "code",
      "source": [
        "print(f\"vamos a imrpimir la variable_1: {variable_1} \")"
      ],
      "metadata": {
        "colab": {
          "base_uri": "https://localhost:8080/"
        },
        "id": "nNy99X44IUMy",
        "outputId": "65f3e44f-75ef-4be8-a677-aa9896b5dbff"
      },
      "execution_count": null,
      "outputs": [
        {
          "output_type": "stream",
          "name": "stdout",
          "text": [
            "vamos a imrpimir la variable_1: 10 \n"
          ]
        }
      ]
    },
    {
      "cell_type": "markdown",
      "source": [
        "###Booleanos"
      ],
      "metadata": {
        "id": "idd3SvaZI7Rk"
      }
    },
    {
      "cell_type": "code",
      "source": [
        "var_bool_1=True\n",
        "var_bool_2=False\n",
        "print(type(var_bool_1))\n",
        "print(var_bool_1)"
      ],
      "metadata": {
        "colab": {
          "base_uri": "https://localhost:8080/"
        },
        "id": "gAQceT9HInuJ",
        "outputId": "863001df-833d-4849-d98e-27347a4d25e5"
      },
      "execution_count": null,
      "outputs": [
        {
          "output_type": "stream",
          "name": "stdout",
          "text": [
            "<class 'bool'>\n",
            "True\n"
          ]
        }
      ]
    },
    {
      "cell_type": "markdown",
      "source": [
        "###Comparaciones"
      ],
      "metadata": {
        "id": "t2-1TdcAI9dL"
      }
    },
    {
      "cell_type": "code",
      "source": [
        "print(var1>var2)\n",
        "print(var1<var2)\n",
        "print(var1==var2)"
      ],
      "metadata": {
        "colab": {
          "base_uri": "https://localhost:8080/"
        },
        "id": "n2ZhF3bXI_bS",
        "outputId": "b3bf426c-5ea2-414f-f527-5d2c8d23aa35"
      },
      "execution_count": null,
      "outputs": [
        {
          "output_type": "stream",
          "name": "stdout",
          "text": [
            "False\n",
            "True\n",
            "False\n"
          ]
        }
      ]
    },
    {
      "cell_type": "markdown",
      "source": [
        "###Estructuras de control de flujo"
      ],
      "metadata": {
        "id": "6TLQUPCNJf5r"
      }
    },
    {
      "cell_type": "code",
      "source": [
        "if 7<4:\n",
        "  print(\"Efectivamente, 4 es menor que 7\")\n",
        "else:\n",
        "  print(\"Yo voy a ejecutarme si la comparación de arriba es false\")"
      ],
      "metadata": {
        "colab": {
          "base_uri": "https://localhost:8080/"
        },
        "id": "LEjbLB4ZJhlo",
        "outputId": "c8287113-3ea8-49ad-bfa2-38d16e8659cb"
      },
      "execution_count": null,
      "outputs": [
        {
          "output_type": "stream",
          "name": "stdout",
          "text": [
            "Yo voy a ejecutarme si la comparación de arriba es false\n"
          ]
        }
      ]
    },
    {
      "cell_type": "code",
      "source": [
        "var1=14\n",
        "var2=20\n",
        "if var1>var2:\n",
        "  print(\"var1 es mayor que var2\")\n",
        "elif var1<var2:\n",
        "  print(\"var1 es menor que var2\")\n",
        "else:\n",
        "  print(\"var1 es igual a var2\")"
      ],
      "metadata": {
        "colab": {
          "base_uri": "https://localhost:8080/"
        },
        "outputId": "fb16b1e2-c0ea-4332-c3a0-e6367d82df36",
        "id": "_5HBKUnsKDsR"
      },
      "execution_count": null,
      "outputs": [
        {
          "output_type": "stream",
          "name": "stdout",
          "text": [
            "var1 es menor que var2\n"
          ]
        }
      ]
    }
  ]
}