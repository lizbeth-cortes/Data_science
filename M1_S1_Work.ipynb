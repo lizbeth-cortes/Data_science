{
  "nbformat": 4,
  "nbformat_minor": 0,
  "metadata": {
    "colab": {
      "provenance": [],
      "authorship_tag": "ABX9TyOUSnOPDzUe5XYp35Qd7BXg",
      "include_colab_link": true
    },
    "kernelspec": {
      "name": "python3",
      "display_name": "Python 3"
    },
    "language_info": {
      "name": "python"
    }
  },
  "cells": [
    {
      "cell_type": "markdown",
      "metadata": {
        "id": "view-in-github",
        "colab_type": "text"
      },
      "source": [
        "<a href=\"https://colab.research.google.com/github/lizbeth-cortes/Data_science/blob/main/M1_S1_Work.ipynb\" target=\"_parent\"><img src=\"https://colab.research.google.com/assets/colab-badge.svg\" alt=\"Open In Colab\"/></a>"
      ]
    },
    {
      "cell_type": "markdown",
      "source": [
        "#Reto 1: Variables\n",
        "1. Objetivos:\n",
        "- Practicar convención de nombramiento y asignación de variables"
      ],
      "metadata": {
        "id": "gL0BdLx-pN2n"
      }
    },
    {
      "cell_type": "markdown",
      "source": [
        "2. Desarrollo:\n",
        "\n",
        "    Indica cuáles nombres de variables son válidos y cuáles con inválidos. Puedes hacerlo colocando un comentario al lado de cada asignación (# esto es un comentario). Los comentarios son texto que Python ignora a la hora de correr una celda. Nos sirven para hacer anotaciones."
      ],
      "metadata": {
        "id": "NC5Ns7Ohpa4x"
      }
    },
    {
      "cell_type": "code",
      "execution_count": null,
      "metadata": {
        "id": "bkcrqW6GpAj4"
      },
      "outputs": [],
      "source": [
        "var_1 = 5 #válida\n",
        "\n",
        "variable_nueva_2 = 10 #válida\n",
        "\n",
        "Variable_nueva_3 = 11 #inválida\n",
        "\n",
        "var_3_1 = 14 #válida\n",
        "\n",
        "varNueva4 = 44 #inválida\n",
        "\n",
        "var_nuevaNumero = 98 #inválida\n",
        "\n",
        "var_num = 22 # válida\n",
        "\n",
        "VarNum = 11 #inválida\n",
        "\n",
        "soyUnaVariable = 14 #inválida"
      ]
    },
    {
      "cell_type": "markdown",
      "source": [
        "#Reto 2: Variables"
      ],
      "metadata": {
        "id": "2GuAI6GKxRBe"
      }
    },
    {
      "cell_type": "code",
      "source": [
        "var_1 = 4\n",
        "\n",
        "var_2 = 10\n",
        "\n",
        "var_3 = 6\n",
        "\n",
        "var_4 = 8\n",
        "\n",
        "var_5 = 2"
      ],
      "metadata": {
        "id": "xxRYi6T5xzyE"
      },
      "execution_count": null,
      "outputs": []
    },
    {
      "cell_type": "code",
      "source": [
        "var_1 + var_2  # Resultado esperado: 14\n",
        "var_3 - var_2  # Resultado esperado: -4\n",
        "var_3 * var_1  # Resultado esperado: 24\n",
        "var_5 + var_3  # Resultado esperado: 8\n",
        "var_4 / var_5  # Resultado esperado: 4"
      ],
      "metadata": {
        "id": "xZ7VvdNgyOld"
      },
      "execution_count": null,
      "outputs": []
    },
    {
      "cell_type": "code",
      "source": [
        "print(var_1 + var_2) # Resultado esperado: 14\n",
        "print(var_3 - var_2)  # Resultado esperado: -4\n",
        "print(var_3 * var_1)  # Resultado esperado: 24\n",
        "print(var_5 + var_3)  # Resultado esperado: 8\n",
        "print(var_4 / var_5)  # Resultado esperado: 4"
      ],
      "metadata": {
        "colab": {
          "base_uri": "https://localhost:8080/"
        },
        "id": "HEWYcJWsyQ-l",
        "outputId": "d6994478-47ae-42b4-d165-e0d050b871d4"
      },
      "execution_count": null,
      "outputs": [
        {
          "output_type": "stream",
          "name": "stdout",
          "text": [
            "14\n",
            "-4\n",
            "24\n",
            "8\n",
            "4.0\n"
          ]
        }
      ]
    }
  ]
}