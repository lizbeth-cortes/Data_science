{
  "nbformat": 4,
  "nbformat_minor": 0,
  "metadata": {
    "colab": {
      "provenance": [],
      "authorship_tag": "ABX9TyNYXpT0r06CayjYbfQYJs3n",
      "include_colab_link": true
    },
    "kernelspec": {
      "name": "python3",
      "display_name": "Python 3"
    },
    "language_info": {
      "name": "python"
    }
  },
  "cells": [
    {
      "cell_type": "markdown",
      "metadata": {
        "id": "view-in-github",
        "colab_type": "text"
      },
      "source": [
        "<a href=\"https://colab.research.google.com/github/lizbeth-cortes/Data_science/blob/main/M1_S3_Prework.ipynb\" target=\"_parent\"><img src=\"https://colab.research.google.com/assets/colab-badge.svg\" alt=\"Open In Colab\"/></a>"
      ]
    },
    {
      "cell_type": "markdown",
      "source": [
        "#MAP"
      ],
      "metadata": {
        "id": "yawg9URJkIGS"
      }
    },
    {
      "cell_type": "code",
      "execution_count": null,
      "metadata": {
        "id": "Oy6-jIWPhUfE"
      },
      "outputs": [],
      "source": [
        "numeros=[1,2,3,4,5,6,7,8,9]"
      ]
    },
    {
      "cell_type": "code",
      "source": [
        "def multiplicar_por_dos (num):\n",
        "  resultado = num *2\n",
        "  return resultado"
      ],
      "metadata": {
        "id": "tzCwMfjshr8s"
      },
      "execution_count": null,
      "outputs": []
    },
    {
      "cell_type": "code",
      "source": [
        "#Lo que hace la función map es recibir\n",
        "#una función y una lista\n",
        "# y aplica la función a lista elemento por elemento\n",
        "#regresa una nueva lista que contiene los elementos\n",
        "# de la lista anterior\n",
        "map(multiplicar_por_dos,numeros)\n"
      ],
      "metadata": {
        "colab": {
          "base_uri": "https://localhost:8080/"
        },
        "id": "OASZ-csMh4wj",
        "outputId": "460641be-626e-4d33-85fa-5a9f3cc182f9"
      },
      "execution_count": null,
      "outputs": [
        {
          "output_type": "execute_result",
          "data": {
            "text/plain": [
              "<map at 0x7e2eb1d141f0>"
            ]
          },
          "metadata": {},
          "execution_count": 3
        }
      ]
    },
    {
      "cell_type": "code",
      "source": [
        "list(map(multiplicar_por_dos,numeros))"
      ],
      "metadata": {
        "colab": {
          "base_uri": "https://localhost:8080/"
        },
        "id": "YTcvL2EeiabI",
        "outputId": "644edd87-e637-4874-d056-87e995a0bdbb"
      },
      "execution_count": null,
      "outputs": [
        {
          "output_type": "execute_result",
          "data": {
            "text/plain": [
              "[2, 4, 6, 8, 10, 12, 14, 16, 18]"
            ]
          },
          "metadata": {},
          "execution_count": 4
        }
      ]
    },
    {
      "cell_type": "code",
      "source": [
        "numeros_por_dos = list(map(multiplicar_por_dos,numeros))\n",
        "numeros_por_dos"
      ],
      "metadata": {
        "colab": {
          "base_uri": "https://localhost:8080/"
        },
        "id": "J3M2EB2FiiXE",
        "outputId": "36bb4037-a04d-41a7-c9e7-92fb51cd6402"
      },
      "execution_count": null,
      "outputs": [
        {
          "output_type": "execute_result",
          "data": {
            "text/plain": [
              "[2, 4, 6, 8, 10, 12, 14, 16, 18]"
            ]
          },
          "metadata": {},
          "execution_count": 5
        }
      ]
    },
    {
      "cell_type": "code",
      "source": [
        "def si_non_regresar_0(num):\n",
        "  if num % 2 == 0:\n",
        "    return num\n",
        "  else:\n",
        "    return 0"
      ],
      "metadata": {
        "id": "yjqy-y5siova"
      },
      "execution_count": null,
      "outputs": []
    },
    {
      "cell_type": "code",
      "source": [
        "numeros = [6,78,3,89,5,63,42,8,76,1,245,9,877,465,34,77,80]\n",
        "numeros_non_cero = list(map(si_non_regresar_0,numeros))\n",
        "numeros_non_cero"
      ],
      "metadata": {
        "colab": {
          "base_uri": "https://localhost:8080/"
        },
        "id": "p9-WRPmpi9Hc",
        "outputId": "65e7952e-97d6-4630-ea82-e1bf550a54a8"
      },
      "execution_count": null,
      "outputs": [
        {
          "output_type": "execute_result",
          "data": {
            "text/plain": [
              "[6, 78, 0, 0, 0, 0, 42, 8, 76, 0, 0, 0, 0, 0, 34, 0, 80]"
            ]
          },
          "metadata": {},
          "execution_count": 7
        }
      ]
    },
    {
      "cell_type": "code",
      "source": [
        "def formato_de_dinero(num):\n",
        "  formateado = f'${num} MXN'\n",
        "  return formateado"
      ],
      "metadata": {
        "id": "tvF_-YM4jPHK"
      },
      "execution_count": null,
      "outputs": []
    },
    {
      "cell_type": "code",
      "source": [
        "numeros = [6,78,3,89,5,63,42,8,76]\n",
        "numeros_formato_dinero = list(map(formato_de_dinero,numeros))\n",
        "numeros_formato_dinero"
      ],
      "metadata": {
        "colab": {
          "base_uri": "https://localhost:8080/"
        },
        "id": "MHIs-Zw5jdCD",
        "outputId": "7a66cf54-3dc6-4d96-a36d-24be519858a7"
      },
      "execution_count": null,
      "outputs": [
        {
          "output_type": "execute_result",
          "data": {
            "text/plain": [
              "['$6 MXN',\n",
              " '$78 MXN',\n",
              " '$3 MXN',\n",
              " '$89 MXN',\n",
              " '$5 MXN',\n",
              " '$63 MXN',\n",
              " '$42 MXN',\n",
              " '$8 MXN',\n",
              " '$76 MXN']"
            ]
          },
          "metadata": {},
          "execution_count": 9
        }
      ]
    },
    {
      "cell_type": "markdown",
      "source": [
        "#FILTER"
      ],
      "metadata": {
        "id": "qJTVwpBLkL_d"
      }
    },
    {
      "cell_type": "code",
      "source": [
        "numeros = [5,8,-2,-24,9,78,45]"
      ],
      "metadata": {
        "id": "hgXn16eSkONN"
      },
      "execution_count": null,
      "outputs": []
    },
    {
      "cell_type": "code",
      "source": [
        "def numero_es_positivo(num):\n",
        "  if num >=0:\n",
        "    return True\n",
        "  else:\n",
        "    return False"
      ],
      "metadata": {
        "id": "bMjq1mMvkOb6"
      },
      "execution_count": null,
      "outputs": []
    },
    {
      "cell_type": "code",
      "source": [
        "list(filter(numero_es_positivo,numeros))"
      ],
      "metadata": {
        "colab": {
          "base_uri": "https://localhost:8080/"
        },
        "id": "O4vmksyxkfEn",
        "outputId": "422c4a22-7edd-4f73-f27c-cc2a675a803d"
      },
      "execution_count": null,
      "outputs": [
        {
          "output_type": "execute_result",
          "data": {
            "text/plain": [
              "[5, 8, 9, 78, 45]"
            ]
          },
          "metadata": {},
          "execution_count": 12
        }
      ]
    },
    {
      "cell_type": "markdown",
      "source": [
        "Qué está pasando aquí? filter funciona de la siguiente manera:\n",
        "\n",
        "Recibe una función que regrese True o False.\n",
        "Recibe una lista.\n",
        "Va recorriendo la lista elemento por elemento y le aplica la función a cada elemento de la lista.\n",
        "Cada vez que la función regresa True, filter agrega ese elemento a una nueva lista (la que vamos a obtener de regreso). Cada vez que la función regresa False, filter descarta ese elemento y no lo agrega a la nueva lista."
      ],
      "metadata": {
        "id": "tw_R_S70kqcs"
      }
    },
    {
      "cell_type": "code",
      "source": [
        "from ast import Return\n",
        "def numero_es_negativo(num):\n",
        "  if num < 0:\n",
        "    return True\n",
        "  else:\n",
        "    return False"
      ],
      "metadata": {
        "id": "7RpJI0mTkrnT"
      },
      "execution_count": null,
      "outputs": []
    },
    {
      "cell_type": "code",
      "source": [
        "list(filter(numero_es_negativo,numeros))"
      ],
      "metadata": {
        "colab": {
          "base_uri": "https://localhost:8080/"
        },
        "id": "RRjfzGuMk4OF",
        "outputId": "5ec18233-dc92-4324-f963-42c10d065b63"
      },
      "execution_count": null,
      "outputs": [
        {
          "output_type": "execute_result",
          "data": {
            "text/plain": [
              "[-2, -24]"
            ]
          },
          "metadata": {},
          "execution_count": 14
        }
      ]
    },
    {
      "cell_type": "code",
      "source": [
        "print(f'{(\"\"):8}|{(\"True\"):8}|{(\"False\"):8}')\n",
        "print(f'{(\"True\"):8}|{(True and True):8}|{(True and False)}')\n",
        "print(f'{(\"False\"):8}|{(False and False)}')"
      ],
      "metadata": {
        "colab": {
          "base_uri": "https://localhost:8080/"
        },
        "id": "t9P4tWGHk-H1",
        "outputId": "1a67d8a2-42d3-4c95-8d51-aa01856e405f"
      },
      "execution_count": null,
      "outputs": [
        {
          "output_type": "stream",
          "name": "stdout",
          "text": [
            "        |True    |False   \n",
            "True    |       1|False\n",
            "False   |False\n"
          ]
        }
      ]
    },
    {
      "cell_type": "code",
      "source": [],
      "metadata": {
        "id": "GyNuLJlvCNcr"
      },
      "execution_count": null,
      "outputs": []
    },
    {
      "cell_type": "code",
      "source": [],
      "metadata": {
        "id": "Lyq73tL-CO2o"
      },
      "execution_count": null,
      "outputs": []
    },
    {
      "cell_type": "code",
      "source": [
        "def numero_es_par(num):\n",
        "  if num % 2==0:\n",
        "    return True\n",
        "  else:\n",
        "    return False"
      ],
      "metadata": {
        "id": "tI9yuqcAl0d4"
      },
      "execution_count": null,
      "outputs": []
    },
    {
      "cell_type": "code",
      "source": [
        "def numero_es_mayor_a_50(num):\n",
        "  if num >50:\n",
        "    return True\n",
        "  else:\n",
        "    return False"
      ],
      "metadata": {
        "id": "BR7hfa_pmrvI"
      },
      "execution_count": null,
      "outputs": []
    },
    {
      "cell_type": "code",
      "source": [
        "def num_par_y_mayor_50(num):\n",
        "  return numero_es_par(num) and numero_es_mayor_a_50(num)"
      ],
      "metadata": {
        "id": "3952Q9j1m3bX"
      },
      "execution_count": null,
      "outputs": []
    },
    {
      "cell_type": "code",
      "source": [
        "list(filter(numero_es_mayor_a_50,numeros))"
      ],
      "metadata": {
        "colab": {
          "base_uri": "https://localhost:8080/"
        },
        "id": "r0gvRLnBnOqI",
        "outputId": "25731912-d989-40ec-deeb-57afd6c8d73f"
      },
      "execution_count": null,
      "outputs": [
        {
          "output_type": "execute_result",
          "data": {
            "text/plain": [
              "[78]"
            ]
          },
          "metadata": {},
          "execution_count": 19
        }
      ]
    },
    {
      "cell_type": "code",
      "source": [
        "list(filter(num_par_y_mayor_50,numeros))"
      ],
      "metadata": {
        "colab": {
          "base_uri": "https://localhost:8080/"
        },
        "id": "CPPF-mO-ctCK",
        "outputId": "369c2259-2f42-471d-9b46-1ef7f3a85ab6"
      },
      "execution_count": null,
      "outputs": [
        {
          "output_type": "execute_result",
          "data": {
            "text/plain": [
              "[78]"
            ]
          },
          "metadata": {},
          "execution_count": 24
        }
      ]
    },
    {
      "cell_type": "code",
      "source": [
        "#tupla\n",
        "#no se puede modificar a diferencia de la lista\n",
        "tupla = (1,2,3,4)\n",
        "tupla"
      ],
      "metadata": {
        "colab": {
          "base_uri": "https://localhost:8080/"
        },
        "id": "SeVd0rtjCQWJ",
        "outputId": "c15294e4-2a7d-449c-f247-e6b493b3740d"
      },
      "execution_count": null,
      "outputs": [
        {
          "output_type": "execute_result",
          "data": {
            "text/plain": [
              "(1, 2, 3, 4)"
            ]
          },
          "metadata": {},
          "execution_count": 21
        }
      ]
    }
  ]
}