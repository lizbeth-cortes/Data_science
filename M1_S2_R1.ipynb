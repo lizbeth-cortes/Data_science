{
  "cells": [
    {
      "cell_type": "markdown",
      "metadata": {
        "id": "view-in-github",
        "colab_type": "text"
      },
      "source": [
        "<a href=\"https://colab.research.google.com/github/lizbeth-cortes/Data_science/blob/main/M1_S2_R1.ipynb\" target=\"_parent\"><img src=\"https://colab.research.google.com/assets/colab-badge.svg\" alt=\"Open In Colab\"/></a>"
      ]
    },
    {
      "cell_type": "markdown",
      "metadata": {
        "id": "8NifKi-lIC7L"
      },
      "source": [
        "## Reto 1: Creando listas y accediendo a ellas\n",
        "\n",
        "### 1. Objetivos:\n",
        "    - Practicar crear listas con valores crudos y variables\n",
        "    - Practicar acceder a listas usando índices\n",
        "\n",
        "---\n",
        "    \n",
        "### 2. Desarrollo:"
      ]
    },
    {
      "cell_type": "markdown",
      "metadata": {
        "id": "XCId-M6xIC7T"
      },
      "source": [
        "#### a) Definiendo una lista\n",
        "\n",
        "Debajo de esta celda hay un nombre de una variable que aún no ha sido asignada:"
      ]
    },
    {
      "cell_type": "code",
      "execution_count": null,
      "metadata": {
        "id": "iVnliAjSIC7U"
      },
      "outputs": [],
      "source": [
        "mi_informacion = [\"Lizbeth Cortés\", \"Lyzz\",\"pozole\", \"sopa\",\"Java Developer\"]"
      ]
    },
    {
      "cell_type": "markdown",
      "metadata": {
        "id": "vkbCA-IUIC7W"
      },
      "source": [
        "Ahora, tenemos un `print` que imprime una string formateada para mostrar cierta información acerca de ti (Las triples comillas `'''` nos sirven para generar strings de varias líneas):"
      ]
    },
    {
      "cell_type": "code",
      "execution_count": null,
      "metadata": {
        "id": "9ZiN7p68IC7X",
        "colab": {
          "base_uri": "https://localhost:8080/"
        },
        "outputId": "13bfb2dd-bb24-4889-9b90-76bba32701c7"
      },
      "outputs": [
        {
          "output_type": "stream",
          "name": "stdout",
          "text": [
            "\n",
            "¡Hola! Mi nombre es Lizbeth Cortés. Todos me dicen Lyzz.\n",
            "Mi comida favorita es pozole. Y la comida que más detesto es sopa.\n",
            "Mi trabajo ideal sería Java Developer.\n",
            "¡Gracias, chau!\n",
            "\n"
          ]
        }
      ],
      "source": [
        "print(f'''\n",
        "¡Hola! Mi nombre es {mi_informacion[0]}. Todos me dicen {mi_informacion[1]}.\n",
        "Mi comida favorita es {mi_informacion[2]}. Y la comida que más detesto es {mi_informacion[3]}.\n",
        "Mi trabajo ideal sería {mi_informacion[4]}.\n",
        "¡Gracias, chau!\n",
        "''')"
      ]
    },
    {
      "cell_type": "markdown",
      "metadata": {
        "id": "ptJNAAr5IC7Y"
      },
      "source": [
        "Para que esta string funcione, asigna una lista a la variable `mi_informacion` con toda la información necesaria para imprimir tu micro-bio debajo de la celda."
      ]
    },
    {
      "cell_type": "markdown",
      "metadata": {
        "id": "c5CIzhuLIC7Y"
      },
      "source": [
        "<details><summary>Solución</summary>\n",
        "\n",
        "```python\n",
        "# Obviamente tu solución tendrá tus propios datos, no los de esta persona ficticia que nos acabamos de inventar\n",
        "    \n",
        "mi_informacion = [\n",
        "    \"Fernando de la Vega Gutierrez III\",\n",
        "    \"El Tercer Fer\",\n",
        "    \"la sangre de mis enemigos\",\n",
        "    \"lasagna vegetariana\",\n",
        "    \"Lord Absoluto del Planeta Tierra\"\n",
        "]\n",
        "```\n",
        "    \n",
        "</details>"
      ]
    },
    {
      "cell_type": "markdown",
      "metadata": {
        "id": "Zomh1x-PIC7Z"
      },
      "source": [
        "#### b) Una lista construida con variables\n",
        "\n",
        "Debajo de esta celda vemos los nombres de varias variables y una lista que las contiene."
      ]
    },
    {
      "cell_type": "code",
      "execution_count": null,
      "metadata": {
        "id": "Uxwe3C-XIC7Z"
      },
      "outputs": [],
      "source": [
        "info_0 = \"Aliens\"\n",
        "info_1 = \"conquistar la tierra\"\n",
        "info_2 = \"podrían asustarse\"\n",
        "info_3 = \"luchar\"\n",
        "info_4 = \"entreno\"\n",
        "\n",
        "info_faltante = [info_0, info_1, info_2, info_3, info_4]"
      ]
    },
    {
      "cell_type": "markdown",
      "metadata": {
        "id": "jZtthqHDIC7a"
      },
      "source": [
        "Ahora, tenemos un `print` que imprime una pequeña historia utilizando la lista `info_faltante` que contiene a las demás variables:"
      ]
    },
    {
      "cell_type": "code",
      "execution_count": null,
      "metadata": {
        "id": "ry4jvlpXIC7a",
        "colab": {
          "base_uri": "https://localhost:8080/"
        },
        "outputId": "d7915432-df97-4832-efcf-61534e8c1665"
      },
      "outputs": [
        {
          "output_type": "stream",
          "name": "stdout",
          "text": [
            "\n",
            "Algún día los Aliens lograrán su objetivo. Su objetivo de conquistar la tierra.\n",
            "Ese día, los humanos podrían asustarse y tendrán que luchar.\n",
            "Por esa razón yo todos los días entreno.\n",
            "\n"
          ]
        }
      ],
      "source": [
        "print(f'''\n",
        "Algún día los {info_faltante[0]} lograrán su objetivo. Su objetivo de {info_faltante[1]}.\n",
        "Ese día, los humanos {info_faltante[2]} y tendrán que {info_faltante[3]}.\n",
        "Por esa razón yo todos los días {info_faltante[4]}.\n",
        "''')"
      ]
    },
    {
      "cell_type": "markdown",
      "metadata": {
        "id": "M77rADiuIC7a"
      },
      "source": [
        "Tu reto será asignar las variables `info_x` con la información que desees para crear una historia a tu gusto. Cada variable puede contener una string que tenga varias palabras (frases, pues). Si te dan ganas, ¡comparte la historia con tus compañeros!"
      ]
    },
    {
      "cell_type": "markdown",
      "metadata": {
        "id": "UwjKDDMQIC7b"
      },
      "source": [
        "<details><summary>Solución</summary>\n",
        "\n",
        "```python\n",
        "# Solución muestra. Todas las soluciones se van a ver distintas porque nuestros cerebros no son el mismo cerebro (duh).\n",
        "    \n",
        "info_0 = \"Champiñones\"\n",
        "info_1 = \"ser el alimento más nutritivo sobre la Tierra\"\n",
        "info_2 = \"al fin admirarán a los champiñones como lo merecen\"\n",
        "info_3 = \"dejar de comer todos los demás alimentos para siempre\"\n",
        "info_4 = \"como Corn Flakes en el desayuno, porque todavía puedo\"\n",
        "```\n",
        "    \n",
        "</details>"
      ]
    },
    {
      "cell_type": "markdown",
      "metadata": {
        "id": "gU46IhNDIC7b"
      },
      "source": [
        "#### c) Practicando el operador de indexación\n",
        "\n",
        "Debajo de esta celda hay una lista con números dentro:"
      ]
    },
    {
      "cell_type": "code",
      "execution_count": null,
      "metadata": {
        "id": "uRUKY5W4IC7b"
      },
      "outputs": [],
      "source": [
        "respuestas = [0.58, 9, 2, 3, 37, 5, 75, 4]"
      ]
    },
    {
      "cell_type": "markdown",
      "metadata": {
        "id": "IgBzrA5QIC7b"
      },
      "source": [
        "Ahora, tenemos un `print` con una string interpolada. Como puedes ver todas las interpolaciones están vacías:"
      ]
    },
    {
      "cell_type": "code",
      "execution_count": null,
      "metadata": {
        "id": "7y0xBX1KIC7b",
        "colab": {
          "base_uri": "https://localhost:8080/"
        },
        "outputId": "50d35e23-792d-4126-9d4b-441c6d893f4b"
      },
      "outputs": [
        {
          "output_type": "stream",
          "name": "stdout",
          "text": [
            "\n",
            "1. Los humanos tenemos 2 ojos en la cara.\n",
            "2. Un humano adulto tiene 32 dientes dentro de su boca.\n",
            "3. Un feto tarda 9 meses en gestarse antes de nacer.\n",
            "4. La expectativa de vida en México es de alrededor de 75 años.\n",
            "5. Las horas de sueño al día recomendadas para adultos jóvenes son entre 7 y 9.\n",
            "6. El récord actual de velocidad en 100 metros (09/05/2020) fue establecido por Usain Bolt y es de 9.58\n",
            "\n"
          ]
        }
      ],
      "source": [
        "print(f'''\n",
        "1. Los humanos tenemos {respuestas[2]} ojos en la cara.\n",
        "2. Un humano adulto tiene {respuestas[4]-respuestas[5]} dientes dentro de su boca.\n",
        "3. Un feto tarda {respuestas[1]} meses en gestarse antes de nacer.\n",
        "4. La expectativa de vida en México es de alrededor de {respuestas[-2]} años.\n",
        "5. Las horas de sueño al día recomendadas para adultos jóvenes son entre {respuestas[1]-respuestas[2]} y {respuestas[1]}.\n",
        "6. El récord actual de velocidad en 100 metros (09/05/2020) fue establecido por Usain Bolt y es de {respuestas[0] + respuestas[1]}\n",
        "''')"
      ]
    },
    {
      "cell_type": "markdown",
      "metadata": {
        "id": "zd7Kgy3GIC7c"
      },
      "source": [
        "Tu reto es llenar las interpolaciones en la string con elementos de la lista de arriba. Usa los índices de los elementos para acceder a las respuestas correctas y llenar la lista con información coherente. No todas las respuestas están en la lista. Para obtener algunas respuestas tendrás que acceder a elementos de la lista y realizar operaciones numéricas conn ellos (usando `+` o `-`).\n",
        "\n",
        "> Reto extra: Si quieres un poco más de dificultad, accede a todos los elementos usando **solamente** números negativos como índices"
      ]
    },
    {
      "cell_type": "markdown",
      "metadata": {
        "id": "kehXZ7LuIC7c"
      },
      "source": [
        "<details><summary>Solución</summary>\n",
        "\n",
        "```python\n",
        "print(f'''\n",
        "1. Los humanos tenemos {respuestas[2]} ojos en la cara.\n",
        "2. Un humano adulto tiene {respuestas[4] - respuestas[5]} dientes dentro de su boca.\n",
        "3. Un feto tarda {respuestas[1]} meses en gestarse antes de nacer.\n",
        "4. La expectativa de vida en México es de alrededor de {respuestas[6]} años.\n",
        "5. Las horas de sueño al día recomendadas para adultos jóvenes son entre {respuestas[3] + respuestas[7]} y {respuestas[1]}.\n",
        "6. El récord actual de velocidad en 100 metros (09/05/2020) fue establecido por Usain Bolt y es de {respuestas[0] + respuestas[1]}\n",
        "''')\n",
        "```\n",
        "    \n",
        "</details>"
      ]
    },
    {
      "cell_type": "code",
      "execution_count": null,
      "metadata": {
        "id": "Vo4Pja8WIC7c"
      },
      "outputs": [],
      "source": []
    }
  ],
  "metadata": {
    "kernelspec": {
      "display_name": "Python (data_science)",
      "language": "python",
      "name": "data_science"
    },
    "language_info": {
      "codemirror_mode": {
        "name": "ipython",
        "version": 3
      },
      "file_extension": ".py",
      "mimetype": "text/x-python",
      "name": "python",
      "nbconvert_exporter": "python",
      "pygments_lexer": "ipython3",
      "version": "3.8.5"
    },
    "colab": {
      "provenance": [],
      "include_colab_link": true
    }
  },
  "nbformat": 4,
  "nbformat_minor": 0
}