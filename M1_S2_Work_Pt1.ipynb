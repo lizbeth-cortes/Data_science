{
  "nbformat": 4,
  "nbformat_minor": 0,
  "metadata": {
    "colab": {
      "provenance": [],
      "authorship_tag": "ABX9TyNsU00aBSGzyjELghtSYiWY",
      "include_colab_link": true
    },
    "kernelspec": {
      "name": "python3",
      "display_name": "Python 3"
    },
    "language_info": {
      "name": "python"
    }
  },
  "cells": [
    {
      "cell_type": "markdown",
      "metadata": {
        "id": "view-in-github",
        "colab_type": "text"
      },
      "source": [
        "<a href=\"https://colab.research.google.com/github/lizbeth-cortes/Data_science/blob/main/M1_S2_Work_Pt1.ipynb\" target=\"_parent\"><img src=\"https://colab.research.google.com/assets/colab-badge.svg\" alt=\"Open In Colab\"/></a>"
      ]
    },
    {
      "cell_type": "markdown",
      "source": [
        "#Sesión 2. Estructura de datos y funciones"
      ],
      "metadata": {
        "id": "jwm3y57J4NoP"
      }
    },
    {
      "cell_type": "markdown",
      "source": [
        "##Ejemplo 1: Listas"
      ],
      "metadata": {
        "id": "NedE6npa4TUX"
      }
    },
    {
      "cell_type": "code",
      "source": [
        "lista = []\n",
        "print(type(lista))"
      ],
      "metadata": {
        "colab": {
          "base_uri": "https://localhost:8080/"
        },
        "id": "45CJmEjA4JKv",
        "outputId": "11c7edf1-7749-4f9e-dca0-ef7dfb3a738e"
      },
      "execution_count": null,
      "outputs": [
        {
          "output_type": "stream",
          "name": "stdout",
          "text": [
            "<class 'list'>\n"
          ]
        }
      ]
    },
    {
      "cell_type": "code",
      "source": [
        "lista_constructor = list ()\n",
        "print(type(lista_constructor))\n"
      ],
      "metadata": {
        "colab": {
          "base_uri": "https://localhost:8080/"
        },
        "id": "MAdY1vMJ4mSj",
        "outputId": "40379d3d-221c-4469-b9f6-bffd5ab109cc"
      },
      "execution_count": null,
      "outputs": [
        {
          "output_type": "stream",
          "name": "stdout",
          "text": [
            "<class 'list'>\n"
          ]
        }
      ]
    },
    {
      "cell_type": "code",
      "source": [
        "lista_numeros = [1,2,3,4,5,6,7,8,9,10]"
      ],
      "metadata": {
        "id": "rMmfjYP_45sc"
      },
      "execution_count": null,
      "outputs": []
    },
    {
      "cell_type": "code",
      "source": [
        "lista_numeros"
      ],
      "metadata": {
        "colab": {
          "base_uri": "https://localhost:8080/"
        },
        "id": "V17y0DvP4_8D",
        "outputId": "a76193b0-488c-4540-e8c6-70a0983f46ec"
      },
      "execution_count": null,
      "outputs": [
        {
          "output_type": "execute_result",
          "data": {
            "text/plain": [
              "[1, 2, 3, 4, 5, 6, 7, 8, 9, 10]"
            ]
          },
          "metadata": {},
          "execution_count": 4
        }
      ]
    },
    {
      "cell_type": "code",
      "source": [
        "lista_numeros[0]"
      ],
      "metadata": {
        "colab": {
          "base_uri": "https://localhost:8080/"
        },
        "id": "IRnTpCql5DH7",
        "outputId": "81781524-bb41-4e93-ab8e-d27251246682"
      },
      "execution_count": null,
      "outputs": [
        {
          "output_type": "execute_result",
          "data": {
            "text/plain": [
              "1"
            ]
          },
          "metadata": {},
          "execution_count": 5
        }
      ]
    },
    {
      "cell_type": "markdown",
      "source": [
        "Slicing o rebanada"
      ],
      "metadata": {
        "id": "Ioyw-_9e5Ics"
      }
    },
    {
      "cell_type": "code",
      "source": [
        "lista_numeros[-2]"
      ],
      "metadata": {
        "colab": {
          "base_uri": "https://localhost:8080/"
        },
        "id": "HipDK9jB5HKb",
        "outputId": "e994880f-4f91-4bfd-9664-9c9f1225c38f"
      },
      "execution_count": null,
      "outputs": [
        {
          "output_type": "execute_result",
          "data": {
            "text/plain": [
              "9"
            ]
          },
          "metadata": {},
          "execution_count": 7
        }
      ]
    },
    {
      "cell_type": "code",
      "source": [
        "#lista_numeros[inicio:fin:salto o paso]\n",
        "lista_numeros[0:9:2]"
      ],
      "metadata": {
        "colab": {
          "base_uri": "https://localhost:8080/"
        },
        "id": "fRuDLhe9_pD_",
        "outputId": "66368549-6177-49b2-dc58-deb3892c66a9"
      },
      "execution_count": null,
      "outputs": [
        {
          "output_type": "execute_result",
          "data": {
            "text/plain": [
              "[1, 3, 5, 7, 9]"
            ]
          },
          "metadata": {},
          "execution_count": 9
        }
      ]
    },
    {
      "cell_type": "code",
      "source": [
        "lista_numeros[::-1]"
      ],
      "metadata": {
        "colab": {
          "base_uri": "https://localhost:8080/"
        },
        "id": "vMQdiultAGYX",
        "outputId": "89b66679-4735-4275-f54f-b5ed260a503f"
      },
      "execution_count": null,
      "outputs": [
        {
          "output_type": "execute_result",
          "data": {
            "text/plain": [
              "[10, 9, 8, 7, 6, 5, 4, 3, 2, 1]"
            ]
          },
          "metadata": {},
          "execution_count": 11
        }
      ]
    },
    {
      "cell_type": "code",
      "source": [
        "lista_numeros[::3]"
      ],
      "metadata": {
        "colab": {
          "base_uri": "https://localhost:8080/"
        },
        "id": "FUaSaFUJCgLq",
        "outputId": "d69f5dc9-bf4c-4c1c-9203-968bbbc9b40f"
      },
      "execution_count": null,
      "outputs": [
        {
          "output_type": "execute_result",
          "data": {
            "text/plain": [
              "[1, 4, 7, 10]"
            ]
          },
          "metadata": {},
          "execution_count": 12
        }
      ]
    },
    {
      "cell_type": "code",
      "source": [
        "lista_de_ints = [1,8,5,1,45,150]\n",
        "lista_de_floats = [2.4,5.67,8.7,9.34]\n",
        "lista_de_string = [\"Juan\", \"Pepe\", \"Pedro\", \"Jose\"]\n",
        "lista_de_booeleanos = [True, False, False,True,False]\n",
        "lista_de_lista_de_ints = [[3,4,6],[7,8,9],[4,6,2]]"
      ],
      "metadata": {
        "id": "w-Lv5d4NCysB"
      },
      "execution_count": null,
      "outputs": []
    },
    {
      "cell_type": "code",
      "source": [
        "lista_de_string\n"
      ],
      "metadata": {
        "colab": {
          "base_uri": "https://localhost:8080/"
        },
        "id": "2tQX99oYDvQ7",
        "outputId": "3754869f-e5ff-4ea0-e4b8-f1bc54f7079c"
      },
      "execution_count": null,
      "outputs": [
        {
          "output_type": "execute_result",
          "data": {
            "text/plain": [
              "['Juan', 'Pepe', 'Pedro', 'Jose']"
            ]
          },
          "metadata": {},
          "execution_count": 15
        }
      ]
    },
    {
      "cell_type": "code",
      "source": [
        "lista_de_dif = [1,3.1416,\"Hola mundo\",[1,2,3,4,5,6,7,8,9,10]]"
      ],
      "metadata": {
        "id": "xjbEn6JhDv4d"
      },
      "execution_count": null,
      "outputs": []
    },
    {
      "cell_type": "code",
      "source": [
        "lista_de_dif[-1]"
      ],
      "metadata": {
        "colab": {
          "base_uri": "https://localhost:8080/"
        },
        "id": "VyystlTbD-by",
        "outputId": "04f48e64-215a-48db-a043-4adc21f1f385"
      },
      "execution_count": null,
      "outputs": [
        {
          "output_type": "execute_result",
          "data": {
            "text/plain": [
              "[1, 2, 3, 4, 5, 6, 7, 8, 9, 10]"
            ]
          },
          "metadata": {},
          "execution_count": 19
        }
      ]
    },
    {
      "cell_type": "code",
      "source": [
        "#Como ingresar a una lista de lista\n",
        "lista_de_dif[-1][7]"
      ],
      "metadata": {
        "colab": {
          "base_uri": "https://localhost:8080/"
        },
        "id": "Bn2uv-a-EGoM",
        "outputId": "14206f52-93db-4c2e-8e30-cbb4c950c8ef"
      },
      "execution_count": null,
      "outputs": [
        {
          "output_type": "execute_result",
          "data": {
            "text/plain": [
              "8"
            ]
          },
          "metadata": {},
          "execution_count": 21
        }
      ]
    },
    {
      "cell_type": "code",
      "source": [
        "#Usando la función list()\n",
        "cadena = \"este mensaje se autodestruirá en 10 segundos\"\n",
        "lista_desde_cadena = list(cadena)"
      ],
      "metadata": {
        "id": "mCM4qHoLF_xx"
      },
      "execution_count": null,
      "outputs": []
    },
    {
      "cell_type": "code",
      "source": [
        "lista_desde_cadena"
      ],
      "metadata": {
        "colab": {
          "base_uri": "https://localhost:8080/"
        },
        "id": "fsIkwrYjGSmk",
        "outputId": "e3f712e7-666e-4d75-abc8-8e968bc64f1e"
      },
      "execution_count": null,
      "outputs": [
        {
          "output_type": "execute_result",
          "data": {
            "text/plain": [
              "['e',\n",
              " 's',\n",
              " 't',\n",
              " 'e',\n",
              " ' ',\n",
              " 'm',\n",
              " 'e',\n",
              " 'n',\n",
              " 's',\n",
              " 'a',\n",
              " 'j',\n",
              " 'e',\n",
              " ' ',\n",
              " 's',\n",
              " 'e',\n",
              " ' ',\n",
              " 'a',\n",
              " 'u',\n",
              " 't',\n",
              " 'o',\n",
              " 'd',\n",
              " 'e',\n",
              " 's',\n",
              " 't',\n",
              " 'r',\n",
              " 'u',\n",
              " 'i',\n",
              " 'r',\n",
              " 'á',\n",
              " ' ',\n",
              " 'e',\n",
              " 'n',\n",
              " ' ',\n",
              " '1',\n",
              " '0',\n",
              " ' ',\n",
              " 's',\n",
              " 'e',\n",
              " 'g',\n",
              " 'u',\n",
              " 'n',\n",
              " 'd',\n",
              " 'o',\n",
              " 's']"
            ]
          },
          "metadata": {},
          "execution_count": 23
        }
      ]
    },
    {
      "cell_type": "markdown",
      "source": [
        "##Ejemplo 2. Modificando listas"
      ],
      "metadata": {
        "id": "HEr4gVaC4ag2"
      }
    },
    {
      "cell_type": "code",
      "source": [
        "# .append()\n",
        "# .pop()"
      ],
      "metadata": {
        "id": "kjqkhac5GioD"
      },
      "execution_count": null,
      "outputs": []
    },
    {
      "cell_type": "code",
      "source": [
        "lista_1 = [1,2,3,4,5,6]"
      ],
      "metadata": {
        "id": "nCthyHxCZKGB"
      },
      "execution_count": null,
      "outputs": []
    },
    {
      "cell_type": "code",
      "source": [
        "lista_1.append(\"3.1416\")\n",
        "lista_1"
      ],
      "metadata": {
        "colab": {
          "base_uri": "https://localhost:8080/"
        },
        "id": "UIiRx1TXZW21",
        "outputId": "5e8ed9f6-8fa9-492f-ce85-99394ce2645e"
      },
      "execution_count": null,
      "outputs": [
        {
          "output_type": "execute_result",
          "data": {
            "text/plain": [
              "[1, 2, 3, 4, 5, 6, '3.1416', '3.1416']"
            ]
          },
          "metadata": {},
          "execution_count": 26
        }
      ]
    },
    {
      "cell_type": "code",
      "source": [
        "lista_1.append({1:\"hola\"})\n",
        "lista_1\n"
      ],
      "metadata": {
        "colab": {
          "base_uri": "https://localhost:8080/"
        },
        "id": "4aUiIoUNZznN",
        "outputId": "f56de8a5-2c43-48f1-f526-aebcd48b2ca8"
      },
      "execution_count": null,
      "outputs": [
        {
          "output_type": "execute_result",
          "data": {
            "text/plain": [
              "[1, 2, 3, 4, 5, 6, '3.1416', '3.1416', {1: 'hola'}]"
            ]
          },
          "metadata": {},
          "execution_count": 27
        }
      ]
    },
    {
      "cell_type": "code",
      "source": [
        "lista_1[0] = \"BEDU\"\n",
        "lista_1"
      ],
      "metadata": {
        "colab": {
          "base_uri": "https://localhost:8080/"
        },
        "id": "6-wwlUMUdTgQ",
        "outputId": "69a6e2ce-c9c0-44eb-f459-9eda428143a7"
      },
      "execution_count": null,
      "outputs": [
        {
          "output_type": "execute_result",
          "data": {
            "text/plain": [
              "['BEDU', 2, 3, 4, 5, 6, '3.1416', '3.1416', {1: 'hola'}]"
            ]
          },
          "metadata": {},
          "execution_count": 29
        }
      ]
    },
    {
      "cell_type": "code",
      "source": [
        "# .pop() elimina a través de un índice\n",
        "lista_1.pop(-1)"
      ],
      "metadata": {
        "colab": {
          "base_uri": "https://localhost:8080/"
        },
        "id": "1JCOPmLdgNIT",
        "outputId": "8dd7edbe-c8fa-47c5-e014-7b23a503be8b"
      },
      "execution_count": null,
      "outputs": [
        {
          "output_type": "execute_result",
          "data": {
            "text/plain": [
              "{1: 'hola'}"
            ]
          },
          "metadata": {},
          "execution_count": 30
        }
      ]
    },
    {
      "cell_type": "code",
      "source": [
        "mi_lista = [1,2]\n",
        "mi_lista.extend([3,4])\n",
        "mi_lista"
      ],
      "metadata": {
        "colab": {
          "base_uri": "https://localhost:8080/"
        },
        "id": "aedLVv3mg-yN",
        "outputId": "5c9dcad5-067b-479d-fb61-1112a1e5aeb6"
      },
      "execution_count": null,
      "outputs": [
        {
          "output_type": "execute_result",
          "data": {
            "text/plain": [
              "[1, 2, 3, 4]"
            ]
          },
          "metadata": {},
          "execution_count": 32
        }
      ]
    },
    {
      "cell_type": "code",
      "source": [
        "mi_lista = [1,2]\n",
        "mi_lista += [3,4,5]\n",
        "mi_lista"
      ],
      "metadata": {
        "colab": {
          "base_uri": "https://localhost:8080/"
        },
        "id": "hzu-DbFThKIC",
        "outputId": "94ceea14-2f49-4864-96f5-93a626e31299"
      },
      "execution_count": null,
      "outputs": [
        {
          "output_type": "execute_result",
          "data": {
            "text/plain": [
              "[1, 2, 3, 4, 5]"
            ]
          },
          "metadata": {},
          "execution_count": 35
        }
      ]
    },
    {
      "cell_type": "markdown",
      "source": [
        "#EJEMPLO 3"
      ],
      "metadata": {
        "id": "o2218rYGhX9s"
      }
    },
    {
      "cell_type": "code",
      "source": [
        "resultado = mi_lista\n",
        "resultado"
      ],
      "metadata": {
        "colab": {
          "base_uri": "https://localhost:8080/"
        },
        "id": "TlNjzvH4tukb",
        "outputId": "0233477a-8cb6-4b20-96c1-a523e80eb195"
      },
      "execution_count": null,
      "outputs": [
        {
          "output_type": "execute_result",
          "data": {
            "text/plain": [
              "[1, 2, 3, 4, 5]"
            ]
          },
          "metadata": {},
          "execution_count": 36
        }
      ]
    },
    {
      "cell_type": "code",
      "source": [
        "resultado.append(\"hola\")\n"
      ],
      "metadata": {
        "id": "QJe5GBeUtxMw"
      },
      "execution_count": null,
      "outputs": []
    },
    {
      "cell_type": "code",
      "source": [
        "mi_lista"
      ],
      "metadata": {
        "colab": {
          "base_uri": "https://localhost:8080/"
        },
        "id": "oi9urYadty36",
        "outputId": "efd736b2-ea20-4554-a8bd-812076123733"
      },
      "execution_count": null,
      "outputs": [
        {
          "output_type": "execute_result",
          "data": {
            "text/plain": [
              "[1, 2, 3, 4, 5, 'hola']"
            ]
          },
          "metadata": {},
          "execution_count": 38
        }
      ]
    },
    {
      "cell_type": "code",
      "source": [
        "# Diccionarios\n",
        "diccionario_tipo = dict()"
      ],
      "metadata": {
        "id": "1xyeSTr3uQbt"
      },
      "execution_count": null,
      "outputs": []
    },
    {
      "cell_type": "code",
      "source": [
        "diccionario_vacio = {}"
      ],
      "metadata": {
        "id": "Rn0kufjMuSgK"
      },
      "execution_count": null,
      "outputs": []
    },
    {
      "cell_type": "code",
      "source": [
        "print(type(diccionario_vacio))"
      ],
      "metadata": {
        "colab": {
          "base_uri": "https://localhost:8080/"
        },
        "id": "3_xPuDa-uVSK",
        "outputId": "ccd1472b-949e-4843-9a80-0be41e966778"
      },
      "execution_count": null,
      "outputs": [
        {
          "output_type": "stream",
          "name": "stdout",
          "text": [
            "<class 'dict'>\n"
          ]
        }
      ]
    },
    {
      "cell_type": "code",
      "source": [
        "# Desde la Creacion\n",
        "diccionario_2 = {\n",
        "    \"llave_1\": \"valor_1\",\n",
        "    \"llave_2\": \"valor_2\",\n",
        "    \"llave_3\": \"valor_3\",\n",
        "    \"llave_4\": \"valor_4\"\n",
        "}"
      ],
      "metadata": {
        "id": "dBV0OAEGuar1"
      },
      "execution_count": null,
      "outputs": []
    },
    {
      "cell_type": "code",
      "source": [
        "diccionario_3 = {\n",
        "    1 : \"Uno\",\n",
        "    2 : \"Dos\",\n",
        "    3 : \"Tres\",\n",
        "    4 : \"Cuatro\",\n",
        "    5 : [1,2,4,5,3.1416,\"hola\",[1,2,3]]\n",
        "}"
      ],
      "metadata": {
        "id": "DMg3or1Audvp"
      },
      "execution_count": null,
      "outputs": []
    },
    {
      "cell_type": "code",
      "source": [
        "diccionario_4 = {\n",
        "    \"int\": 123,\n",
        "    \"float\": 23.56,\n",
        "    \"string\": \"Hola\",\n",
        "    \"booleano\": True,\n",
        "    \"lista\": [1, 2, 3, 4],\n",
        "    \"diccionario\": {\n",
        "        1: \"uno\",\n",
        "        2: \"dos\"\n",
        "    }\n",
        "}"
      ],
      "metadata": {
        "id": "kVkYid4huqql"
      },
      "execution_count": null,
      "outputs": []
    },
    {
      "cell_type": "code",
      "source": [
        "diccionario_2[\"llave_2\"]"
      ],
      "metadata": {
        "colab": {
          "base_uri": "https://localhost:8080/",
          "height": 35
        },
        "id": "9aE-FApqugpX",
        "outputId": "1ba87455-9dc5-4363-bc3c-fa2879901174"
      },
      "execution_count": null,
      "outputs": [
        {
          "output_type": "execute_result",
          "data": {
            "text/plain": [
              "'valor_2'"
            ],
            "application/vnd.google.colaboratory.intrinsic+json": {
              "type": "string"
            }
          },
          "metadata": {},
          "execution_count": 45
        }
      ]
    },
    {
      "cell_type": "code",
      "source": [
        "print(diccionario_4[\"float\"])\n",
        "print(diccionario_4[\"booleano\"])"
      ],
      "metadata": {
        "colab": {
          "base_uri": "https://localhost:8080/"
        },
        "id": "rDDVRXmAum-f",
        "outputId": "bd5fe2d7-34be-4a88-a6f0-df1fe1d2771d"
      },
      "execution_count": null,
      "outputs": [
        {
          "output_type": "stream",
          "name": "stdout",
          "text": [
            "23.56\n",
            "True\n"
          ]
        }
      ]
    },
    {
      "cell_type": "code",
      "source": [
        "suma=diccionario_4[\"lista\"][-1]"
      ],
      "metadata": {
        "id": "Q_bWCrs2uzVa"
      },
      "execution_count": null,
      "outputs": []
    },
    {
      "cell_type": "code",
      "source": [
        "suma = suma +555\n",
        "suma"
      ],
      "metadata": {
        "colab": {
          "base_uri": "https://localhost:8080/"
        },
        "id": "oLyFFENbvGxF",
        "outputId": "4177c767-7bac-45fe-e03c-5e854c8dac8a"
      },
      "execution_count": null,
      "outputs": [
        {
          "output_type": "execute_result",
          "data": {
            "text/plain": [
              "559"
            ]
          },
          "metadata": {},
          "execution_count": 50
        }
      ]
    },
    {
      "cell_type": "code",
      "source": [
        "diccionario_4['diccionario'][1]"
      ],
      "metadata": {
        "colab": {
          "base_uri": "https://localhost:8080/",
          "height": 35
        },
        "id": "_kc6LToBvPgc",
        "outputId": "7849793d-ae38-46ef-f12f-965cc5230541"
      },
      "execution_count": null,
      "outputs": [
        {
          "output_type": "execute_result",
          "data": {
            "text/plain": [
              "'uno'"
            ],
            "application/vnd.google.colaboratory.intrinsic+json": {
              "type": "string"
            }
          },
          "metadata": {},
          "execution_count": 53
        }
      ]
    },
    {
      "cell_type": "markdown",
      "source": [
        "##EJEMPLO 4. Modificandi diccionarios"
      ],
      "metadata": {
        "id": "Jfnrm7qxxn7e"
      }
    },
    {
      "cell_type": "code",
      "source": [
        "from pprint import pprint"
      ],
      "metadata": {
        "id": "4qaAgeT1x_At"
      },
      "execution_count": null,
      "outputs": []
    },
    {
      "cell_type": "code",
      "source": [
        "info_de_contacto = {\n",
        "    \"nombre\": \"Isabel\",\n",
        "    \"tel\": 5546352431,\n",
        "    \"dir\": [\n",
        "        {\n",
        "            \"colonia\": \"Del Valle Centro\",\n",
        "            \"calle\": \"Pilares\",\n",
        "            \"num\": 69,\n",
        "            \"cp\": \"03100\"\n",
        "        },\n",
        "        {\n",
        "            \"colonia\": \"Del Valle Centro 2\",\n",
        "            \"calle\": \"Pilares 456\",\n",
        "            \"num\": 666,\n",
        "            \"cp\": \"25111\"\n",
        "        }\n",
        "    ]\n",
        "}"
      ],
      "metadata": {
        "id": "E1GJ8F4wx-6u"
      },
      "execution_count": null,
      "outputs": []
    },
    {
      "cell_type": "code",
      "source": [
        "info_de_contacto"
      ],
      "metadata": {
        "colab": {
          "base_uri": "https://localhost:8080/"
        },
        "id": "r6CmDszbx-3-",
        "outputId": "632e758a-6e1a-437e-bec9-2a0810045224"
      },
      "execution_count": null,
      "outputs": [
        {
          "output_type": "execute_result",
          "data": {
            "text/plain": [
              "{'nombre': 'Isabel', 'tel': 5546352431, 'dir': [{'colonia': 'Del Valle Centro', 'calle': 'Pilares', 'num': 69, 'cp': '03100'}, {'colonia': 'Del Valle Centro 2', 'calle': 'Pilares 456', 'num': 666, 'cp': '25111'}]}"
            ]
          },
          "metadata": {},
          "execution_count": 60
        }
      ]
    },
    {
      "cell_type": "code",
      "source": [
        "pprint(info_de_contacto)"
      ],
      "metadata": {
        "colab": {
          "base_uri": "https://localhost:8080/"
        },
        "id": "OflrGCY2x-09",
        "outputId": "11381ce6-26cb-4c0d-ac98-2bea3d4272fb"
      },
      "execution_count": null,
      "outputs": [
        {
          "output_type": "stream",
          "name": "stdout",
          "text": [
            "{'dir': [{'calle': 'Pilares',\n",
            "          'colonia': 'Del Valle Centro',\n",
            "          'cp': '03100',\n",
            "          'num': 69},\n",
            "         {'calle': 'Pilares 456',\n",
            "          'colonia': 'Del Valle Centro 2',\n",
            "          'cp': '25111',\n",
            "          'num': 666}],\n",
            " 'nombre': 'Isabel',\n",
            " 'tel': 5546352431}\n"
          ]
        }
      ]
    },
    {
      "cell_type": "code",
      "source": [
        "dict_test= {\n",
        "    1:\"unooo\",\n",
        "    2:\"dos\"\n",
        "}"
      ],
      "metadata": {
        "id": "wG8oJ2R7xMi5"
      },
      "execution_count": null,
      "outputs": []
    },
    {
      "cell_type": "code",
      "source": [
        "dict_test[1] = \"uno\"\n",
        "dict_test"
      ],
      "metadata": {
        "colab": {
          "base_uri": "https://localhost:8080/"
        },
        "id": "GOPEpwmMxNHP",
        "outputId": "57a93cb2-1f7c-4557-ab56-7f72f6a5e10a"
      },
      "execution_count": null,
      "outputs": [
        {
          "output_type": "execute_result",
          "data": {
            "text/plain": [
              "{1: 'uno', 2: 'dos'}"
            ]
          },
          "metadata": {},
          "execution_count": 55
        }
      ]
    },
    {
      "cell_type": "code",
      "source": [
        "dict_test[3]=\"Hola como estas\"\n",
        "dict_test"
      ],
      "metadata": {
        "colab": {
          "base_uri": "https://localhost:8080/"
        },
        "id": "RQ1sRlWfxUCV",
        "outputId": "47e823bf-876f-4cfa-c557-bb2755949474"
      },
      "execution_count": null,
      "outputs": [
        {
          "output_type": "execute_result",
          "data": {
            "text/plain": [
              "{1: 'uno', 2: 'dos', 3: 'Hola como estas'}"
            ]
          },
          "metadata": {},
          "execution_count": 56
        }
      ]
    },
    {
      "cell_type": "code",
      "source": [
        "pprint(dict_test)"
      ],
      "metadata": {
        "colab": {
          "base_uri": "https://localhost:8080/"
        },
        "id": "p6mSu_bRxWF6",
        "outputId": "629ccf2c-37d9-4e6d-a8d0-2d919dfa4d20"
      },
      "execution_count": null,
      "outputs": [
        {
          "output_type": "stream",
          "name": "stdout",
          "text": [
            "{1: 'uno', 2: 'dos', 3: 'Hola como estas'}\n"
          ]
        }
      ]
    },
    {
      "cell_type": "code",
      "source": [
        "dict_test[4]= [1,2]\n",
        "dict_test"
      ],
      "metadata": {
        "colab": {
          "base_uri": "https://localhost:8080/"
        },
        "id": "3nsH6z_VyOl5",
        "outputId": "c81f4cdc-f85b-4faa-aeb7-87ebd0d65c6d"
      },
      "execution_count": null,
      "outputs": [
        {
          "output_type": "execute_result",
          "data": {
            "text/plain": [
              "{1: 'uno', 2: 'dos', 3: 'Hola como estas', 4: [1, 2]}"
            ]
          },
          "metadata": {},
          "execution_count": 63
        }
      ]
    },
    {
      "cell_type": "code",
      "source": [
        "info_de_contacto"
      ],
      "metadata": {
        "colab": {
          "base_uri": "https://localhost:8080/"
        },
        "id": "rYieEotfyO1F",
        "outputId": "3843c021-eb6a-4d1b-ce38-f6858ce838da"
      },
      "execution_count": null,
      "outputs": [
        {
          "output_type": "execute_result",
          "data": {
            "text/plain": [
              "{'nombre': 'Isabel', 'tel': 5546352431, 'dir': [{'colonia': 'Del Valle Centro', 'calle': 'Pilares', 'num': 69, 'cp': '03100'}, {'colonia': 'Del Valle Centro 2', 'calle': 'Pilares 456', 'num': 666, 'cp': '25111'}]}"
            ]
          },
          "metadata": {},
          "execution_count": 64
        }
      ]
    },
    {
      "cell_type": "code",
      "source": [
        "info_de_contacto[\"dir\"]"
      ],
      "metadata": {
        "colab": {
          "base_uri": "https://localhost:8080/"
        },
        "id": "gQ9AuendyO_n",
        "outputId": "604e7c96-8e4b-44cf-c891-794885e4593f"
      },
      "execution_count": null,
      "outputs": [
        {
          "output_type": "execute_result",
          "data": {
            "text/plain": [
              "[{'colonia': 'Del Valle Centro', 'calle': 'Pilares', 'num': 69, 'cp': '03100'}, {'colonia': 'Del Valle Centro 2', 'calle': 'Pilares 456', 'num': 666, 'cp': '25111'}]"
            ]
          },
          "metadata": {},
          "execution_count": 65
        }
      ]
    },
    {
      "cell_type": "code",
      "source": [
        "info_de_contacto[\"dir\"][0][\"num\"]"
      ],
      "metadata": {
        "colab": {
          "base_uri": "https://localhost:8080/"
        },
        "id": "07KI3PolyPJx",
        "outputId": "94992e1d-3b5d-4d12-dc06-20e5833a6739"
      },
      "execution_count": null,
      "outputs": [
        {
          "output_type": "execute_result",
          "data": {
            "text/plain": [
              "69"
            ]
          },
          "metadata": {},
          "execution_count": 66
        }
      ]
    },
    {
      "cell_type": "code",
      "source": [
        "info_de_contacto[\"dir\"][0][\"num\"]=6945"
      ],
      "metadata": {
        "id": "foiXYCChyPTf"
      },
      "execution_count": null,
      "outputs": []
    },
    {
      "cell_type": "code",
      "source": [
        "[\n",
        "    {'colonia': 'Del Valle Centro',\n",
        "      'calle': 'Pilares',\n",
        "      'num': 69,\n",
        "      'cp': '03100'\n",
        "   },\n",
        "  {\n",
        "      'colonia': 'Del Valle Centro 2',\n",
        "    'calle': 'Pilares 456',\n",
        "    'num': 666,\n",
        "    'cp': '25111'\n",
        "  }\n",
        "]"
      ],
      "metadata": {
        "id": "t2eYw0IRypkD"
      },
      "execution_count": null,
      "outputs": []
    },
    {
      "cell_type": "code",
      "source": [
        "info_de_contacto"
      ],
      "metadata": {
        "colab": {
          "base_uri": "https://localhost:8080/"
        },
        "id": "FJNfakNKysmM",
        "outputId": "bf7ae0f9-06e2-4334-c9c7-e45ab73136f7"
      },
      "execution_count": null,
      "outputs": [
        {
          "output_type": "execute_result",
          "data": {
            "text/plain": [
              "{'nombre': 'Isabel', 'tel': 5546352431, 'dir': [{'colonia': 'Del Valle Centro', 'calle': 'Pilares', 'num': 6945, 'cp': '03100'}, {'colonia': 'Del Valle Centro 2', 'calle': 'Pilares 456', 'num': 666, 'cp': '25111'}]}"
            ]
          },
          "metadata": {},
          "execution_count": 68
        }
      ]
    }
  ]
}