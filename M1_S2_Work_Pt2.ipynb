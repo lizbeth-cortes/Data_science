{
  "nbformat": 4,
  "nbformat_minor": 0,
  "metadata": {
    "colab": {
      "provenance": [],
      "authorship_tag": "ABX9TyP3HDR01Q7pue3VOpGThK63",
      "include_colab_link": true
    },
    "kernelspec": {
      "name": "python3",
      "display_name": "Python 3"
    },
    "language_info": {
      "name": "python"
    }
  },
  "cells": [
    {
      "cell_type": "markdown",
      "metadata": {
        "id": "view-in-github",
        "colab_type": "text"
      },
      "source": [
        "<a href=\"https://colab.research.google.com/github/lizbeth-cortes/Data_science/blob/main/M1_S2_Work_Pt2.ipynb\" target=\"_parent\"><img src=\"https://colab.research.google.com/assets/colab-badge.svg\" alt=\"Open In Colab\"/></a>"
      ]
    },
    {
      "cell_type": "markdown",
      "source": [
        "#Ejemplo 4: Tipos de datos"
      ],
      "metadata": {
        "id": "2QPFlN4NpuRE"
      }
    },
    {
      "cell_type": "code",
      "execution_count": null,
      "metadata": {
        "colab": {
          "base_uri": "https://localhost:8080/"
        },
        "id": "Ahs_Ns9GphG2",
        "outputId": "cbe16ea4-946c-4d4f-e884-e148ff9b08e0"
      },
      "outputs": [
        {
          "output_type": "stream",
          "name": "stdout",
          "text": [
            "True\n",
            "<class 'bool'>\n",
            "\n",
            "\n"
          ]
        }
      ],
      "source": [
        "var_boolean= True\n",
        "print(var_boolean)\n",
        "print(type(var_boolean))\n",
        "print(\"\\n\")"
      ]
    },
    {
      "cell_type": "code",
      "source": [
        "var_float=4.4"
      ],
      "metadata": {
        "id": "aBxF63PdqBwY"
      },
      "execution_count": null,
      "outputs": []
    },
    {
      "cell_type": "markdown",
      "source": [
        "\n",
        "\n",
        "---\n",
        "\n"
      ],
      "metadata": {
        "id": "RiQBywYvsoV9"
      }
    },
    {
      "cell_type": "markdown",
      "source": [
        "Para realizar un comentario con múltiples líneas se hace lo siguiente:"
      ],
      "metadata": {
        "id": "-wefUms1qikK"
      }
    },
    {
      "cell_type": "code",
      "source": [
        "print(\"\"\"\n",
        "dfdfdfdf\n",
        "dfdfdfdf\n",
        "dfdfdfdf\n",
        "dfdfdfdf\n",
        "\"\"\")"
      ],
      "metadata": {
        "colab": {
          "base_uri": "https://localhost:8080/"
        },
        "id": "L18fqSx8q696",
        "outputId": "0d990287-6831-47d7-bebe-057dd8c6c245"
      },
      "execution_count": null,
      "outputs": [
        {
          "output_type": "stream",
          "name": "stdout",
          "text": [
            "\n",
            "hola\n",
            "so\n",
            "que\n",
            "\n"
          ]
        }
      ]
    },
    {
      "cell_type": "markdown",
      "source": [
        "Para realizar una tabulación"
      ],
      "metadata": {
        "id": "LkNNzm3xq7fa"
      }
    },
    {
      "cell_type": "code",
      "source": [
        "print(\"Tabulación\")\n",
        "print(\"\\t Hola\")"
      ],
      "metadata": {
        "colab": {
          "base_uri": "https://localhost:8080/"
        },
        "id": "hOFCiDxVq_Eh",
        "outputId": "662017f1-81e8-42a8-ff2d-0bbbaa2ce375"
      },
      "execution_count": null,
      "outputs": [
        {
          "output_type": "stream",
          "name": "stdout",
          "text": [
            "Tabulación\n",
            "\t Hola\n"
          ]
        }
      ]
    },
    {
      "cell_type": "markdown",
      "source": [
        "#Ejemplo 5.Interpolación de strings"
      ],
      "metadata": {
        "id": "Qdnc-f3jtNgV"
      }
    },
    {
      "cell_type": "code",
      "source": [
        "var_1 = 15.3\n",
        "var_2 = 23.4\n",
        "\n",
        "#Esta forma de imprimir es válida, pero\n",
        "#con proyecttos más grandes es mucho más dificil\n",
        "# de mantener\n",
        "resultado = var_1 + var_2\n",
        "print(\"La suma de estos dos valores es:\")\n",
        "print(resultado)"
      ],
      "metadata": {
        "colab": {
          "base_uri": "https://localhost:8080/"
        },
        "id": "txQ_qT0TtQWP",
        "outputId": "ad36c443-bbf8-402d-8d8f-93854542bc8a"
      },
      "execution_count": null,
      "outputs": [
        {
          "output_type": "stream",
          "name": "stdout",
          "text": [
            "La suma de estos dos valores es:\n",
            "38.7\n"
          ]
        }
      ]
    },
    {
      "cell_type": "code",
      "source": [
        "#Esta es la interpolación de string, en donde se permite\n",
        "#agregar variables dentro del string\n",
        "print(f\"La suma de {var_1} y {var_2} es igual a {resultado}\")"
      ],
      "metadata": {
        "colab": {
          "base_uri": "https://localhost:8080/"
        },
        "id": "8CpMoQBIt0Ta",
        "outputId": "0ca2273c-3747-4f3c-867f-07af6e167158"
      },
      "execution_count": null,
      "outputs": [
        {
          "output_type": "stream",
          "name": "stdout",
          "text": [
            "La suma de 15.3 y 23.4 es igual a 38.7\n"
          ]
        }
      ]
    },
    {
      "cell_type": "markdown",
      "source": [
        "#Ejemplo 6. Operadores de combianción"
      ],
      "metadata": {
        "id": "LYykHLlb0kNt"
      }
    },
    {
      "cell_type": "code",
      "source": [
        "var_1 = 34\n",
        "var_2 = 12\n",
        "var_3 = 23.24\n",
        "var_4 = 23.56\n",
        "var_5 = \"OK\"\n",
        "var_6 = \"ERROR\"\n",
        "var_7 = True\n",
        "var_8 = False"
      ],
      "metadata": {
        "id": "a8Si2AGv0rDZ"
      },
      "execution_count": null,
      "outputs": []
    },
    {
      "cell_type": "code",
      "source": [
        "var_1 > var_2"
      ],
      "metadata": {
        "colab": {
          "base_uri": "https://localhost:8080/"
        },
        "id": "c1zcdzGE1Ed_",
        "outputId": "0a3e94c5-2441-47ff-de23-20982df329aa"
      },
      "execution_count": null,
      "outputs": [
        {
          "output_type": "execute_result",
          "data": {
            "text/plain": [
              "True"
            ]
          },
          "metadata": {},
          "execution_count": 13
        }
      ]
    },
    {
      "cell_type": "code",
      "source": [
        "var_1 < var_2"
      ],
      "metadata": {
        "colab": {
          "base_uri": "https://localhost:8080/"
        },
        "id": "R0zdPtWW1cUR",
        "outputId": "d9a32e76-c5f2-4bd4-c2db-f6614bffdb7c"
      },
      "execution_count": null,
      "outputs": [
        {
          "output_type": "execute_result",
          "data": {
            "text/plain": [
              "False"
            ]
          },
          "metadata": {},
          "execution_count": 14
        }
      ]
    },
    {
      "cell_type": "code",
      "source": [
        "var_3 <= var_4"
      ],
      "metadata": {
        "colab": {
          "base_uri": "https://localhost:8080/"
        },
        "id": "1Sd8UEtt1cen",
        "outputId": "663bcf4b-5dc1-4e9e-8f5d-6550e18425ec"
      },
      "execution_count": null,
      "outputs": [
        {
          "output_type": "execute_result",
          "data": {
            "text/plain": [
              "True"
            ]
          },
          "metadata": {},
          "execution_count": 16
        }
      ]
    },
    {
      "cell_type": "code",
      "source": [
        "var_5 == var_6"
      ],
      "metadata": {
        "id": "zDH8GZj-2LMo",
        "outputId": "eb16ac12-37ae-4c48-b400-23451b6266b6",
        "colab": {
          "base_uri": "https://localhost:8080/"
        }
      },
      "execution_count": null,
      "outputs": [
        {
          "output_type": "execute_result",
          "data": {
            "text/plain": [
              "False"
            ]
          },
          "metadata": {},
          "execution_count": 17
        }
      ]
    },
    {
      "cell_type": "code",
      "source": [
        "#match para diferentes casos\n",
        "x = 5\n",
        "match x:\n",
        "  case 1:\n",
        "    print(\"UNO\")\n",
        "  case 2:\n",
        "    print(\"DOS\")\n",
        "  case 3:\n",
        "    print(\"TRES\")\n",
        "  case 4:\n",
        "    print(\"CUATRO\")\n",
        "  case 5:\n",
        "    print(\"CINCO\")\n"
      ],
      "metadata": {
        "colab": {
          "base_uri": "https://localhost:8080/"
        },
        "id": "_sffJOleDSBE",
        "outputId": "4f4a625c-cff1-4fff-8f50-1c6dd1fff1ea"
      },
      "execution_count": null,
      "outputs": [
        {
          "output_type": "stream",
          "name": "stdout",
          "text": [
            "CINCO\n"
          ]
        }
      ]
    }
  ]
}