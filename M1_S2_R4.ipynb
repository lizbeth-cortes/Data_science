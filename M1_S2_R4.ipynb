{
  "cells": [
    {
      "cell_type": "markdown",
      "metadata": {
        "id": "view-in-github",
        "colab_type": "text"
      },
      "source": [
        "<a href=\"https://colab.research.google.com/github/lizbeth-cortes/Data_science/blob/main/M1_S2_R4.ipynb\" target=\"_parent\"><img src=\"https://colab.research.google.com/assets/colab-badge.svg\" alt=\"Open In Colab\"/></a>"
      ]
    },
    {
      "cell_type": "markdown",
      "metadata": {
        "id": "l5mPvQH75jpG"
      },
      "source": [
        "## Reto 4: Operadores de comparación\n",
        "\n",
        "### 1. Objetivos:\n",
        "    - Practicar la comparación de números, strings y booleanos\n",
        "\n",
        "---\n",
        "    \n",
        "### 2. Desarrollo:"
      ]
    },
    {
      "cell_type": "markdown",
      "metadata": {
        "id": "Ba9lZ4U15jpK"
      },
      "source": [
        "A continuación tienes algunas variables que han sido asignadas:"
      ]
    },
    {
      "cell_type": "code",
      "execution_count": null,
      "metadata": {
        "id": "jLmY-YpI5jpL"
      },
      "outputs": [],
      "source": [
        "var_1 = 3\n",
        "var_2 = 5\n",
        "var_3 = 9\n",
        "var_4 = 1\n",
        "var_5 = 9\n",
        "var_6 = -6\n",
        "var_7 = 5\n",
        "var_8 = 4"
      ]
    },
    {
      "cell_type": "markdown",
      "metadata": {
        "id": "QPHasaw55jpM"
      },
      "source": [
        "A continuación tienes algunas comparaciones que se encuentran incompletas, junto con el resultado que se espera de dicha comparación. Agrega los `operadores de comparación` adecuados, en medio de las variables, para que al correr las celdas se obtengan los `Resultados esperados`. Para este reto, los operadores `==` y `!=` no están permitidos."
      ]
    },
    {
      "cell_type": "code",
      "execution_count": null,
      "metadata": {
        "id": "b8DyDiLc5jpM",
        "colab": {
          "base_uri": "https://localhost:8080/"
        },
        "outputId": "4639ca58-e721-47ab-e18f-51f19ce284f1"
      },
      "outputs": [
        {
          "output_type": "execute_result",
          "data": {
            "text/plain": [
              "False"
            ]
          },
          "metadata": {},
          "execution_count": 3
        }
      ],
      "source": [
        "var_1 > var_3  # Resultado esperado: False"
      ]
    },
    {
      "cell_type": "code",
      "execution_count": null,
      "metadata": {
        "id": "_qcEEbhr5jpN",
        "colab": {
          "base_uri": "https://localhost:8080/"
        },
        "outputId": "13d6ad14-3f07-47c0-db11-b58f28ea5cee"
      },
      "outputs": [
        {
          "output_type": "execute_result",
          "data": {
            "text/plain": [
              "True"
            ]
          },
          "metadata": {},
          "execution_count": 4
        }
      ],
      "source": [
        "var_1 > var_4 # Resultado esperado: True"
      ]
    },
    {
      "cell_type": "code",
      "execution_count": null,
      "metadata": {
        "id": "T-fZ2s3-5jpN",
        "colab": {
          "base_uri": "https://localhost:8080/"
        },
        "outputId": "818be964-3e71-45b8-cb86-7557a5d18991"
      },
      "outputs": [
        {
          "output_type": "execute_result",
          "data": {
            "text/plain": [
              "True"
            ]
          },
          "metadata": {},
          "execution_count": 15
        }
      ],
      "source": [
        "var_2 >= var_7  # Resultado esperado: True"
      ]
    },
    {
      "cell_type": "code",
      "execution_count": null,
      "metadata": {
        "id": "OZb78pEs5jpN",
        "colab": {
          "base_uri": "https://localhost:8080/"
        },
        "outputId": "5dfd637d-fac9-4dc2-b391-f9405b435b8c"
      },
      "outputs": [
        {
          "output_type": "execute_result",
          "data": {
            "text/plain": [
              "True"
            ]
          },
          "metadata": {},
          "execution_count": 16
        }
      ],
      "source": [
        "var_8 >= var_6  # Resultado esperado: True"
      ]
    },
    {
      "cell_type": "code",
      "execution_count": null,
      "metadata": {
        "id": "osLe0sKf5jpO",
        "colab": {
          "base_uri": "https://localhost:8080/"
        },
        "outputId": "f0bac889-1f0b-446e-8975-e8328dcf8b70"
      },
      "outputs": [
        {
          "output_type": "execute_result",
          "data": {
            "text/plain": [
              "False"
            ]
          },
          "metadata": {},
          "execution_count": 9
        }
      ],
      "source": [
        "var_3 > var_5  # Resultado esperado: False"
      ]
    },
    {
      "cell_type": "code",
      "execution_count": null,
      "metadata": {
        "id": "nw_NsRTm5jpO",
        "colab": {
          "base_uri": "https://localhost:8080/"
        },
        "outputId": "263d9152-fa8e-4647-b953-e0f9692b0ef8"
      },
      "outputs": [
        {
          "output_type": "execute_result",
          "data": {
            "text/plain": [
              "True"
            ]
          },
          "metadata": {},
          "execution_count": 19
        }
      ],
      "source": [
        "var_1 < var_3  # Resultado esperado: True"
      ]
    },
    {
      "cell_type": "code",
      "execution_count": null,
      "metadata": {
        "id": "RQp0hBSK5jpO",
        "colab": {
          "base_uri": "https://localhost:8080/"
        },
        "outputId": "773b5143-d764-44c1-d795-bcca9c9f809b"
      },
      "outputs": [
        {
          "output_type": "execute_result",
          "data": {
            "text/plain": [
              "False"
            ]
          },
          "metadata": {},
          "execution_count": 21
        }
      ],
      "source": [
        "var_5 <= var_4  # Resultado esperado: False"
      ]
    },
    {
      "cell_type": "code",
      "execution_count": null,
      "metadata": {
        "id": "9gSoPwLa5jpO",
        "colab": {
          "base_uri": "https://localhost:8080/"
        },
        "outputId": "8204b4b5-9515-4cc2-ea66-88f463bbcc06"
      },
      "outputs": [
        {
          "output_type": "execute_result",
          "data": {
            "text/plain": [
              "True"
            ]
          },
          "metadata": {},
          "execution_count": 23
        }
      ],
      "source": [
        "var_3 >= var_5  # Resultado esperado: True"
      ]
    },
    {
      "cell_type": "code",
      "execution_count": null,
      "metadata": {
        "id": "hpQO5a2r5jpP"
      },
      "outputs": [],
      "source": []
    }
  ],
  "metadata": {
    "kernelspec": {
      "display_name": "Python 3",
      "language": "python",
      "name": "python3"
    },
    "language_info": {
      "codemirror_mode": {
        "name": "ipython",
        "version": 3
      },
      "file_extension": ".py",
      "mimetype": "text/x-python",
      "name": "python",
      "nbconvert_exporter": "python",
      "pygments_lexer": "ipython3",
      "version": "3.8.3"
    },
    "colab": {
      "provenance": [],
      "include_colab_link": true
    }
  },
  "nbformat": 4,
  "nbformat_minor": 0
}