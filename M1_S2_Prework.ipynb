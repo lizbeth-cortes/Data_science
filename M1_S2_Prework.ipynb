{
  "nbformat": 4,
  "nbformat_minor": 0,
  "metadata": {
    "colab": {
      "provenance": [],
      "mount_file_id": "1vGKtpaQvWRnFo02wctV9I-67E5-AEpVu",
      "authorship_tag": "ABX9TyM6MM3mpfcYPd0h4S9bHBy8",
      "include_colab_link": true
    },
    "kernelspec": {
      "name": "python3",
      "display_name": "Python 3"
    },
    "language_info": {
      "name": "python"
    }
  },
  "cells": [
    {
      "cell_type": "markdown",
      "metadata": {
        "id": "view-in-github",
        "colab_type": "text"
      },
      "source": [
        "<a href=\"https://colab.research.google.com/github/lizbeth-cortes/Data_science/blob/main/M1_S2_Prework.ipynb\" target=\"_parent\"><img src=\"https://colab.research.google.com/assets/colab-badge.svg\" alt=\"Open In Colab\"/></a>"
      ]
    },
    {
      "cell_type": "markdown",
      "source": [
        "#Estructuras de datos"
      ],
      "metadata": {
        "id": "3KOJa1p6HNVg"
      }
    },
    {
      "cell_type": "code",
      "source": [],
      "metadata": {
        "id": "U2gqP4Wp85Z0"
      },
      "execution_count": null,
      "outputs": []
    },
    {
      "cell_type": "markdown",
      "source": [
        "##Listas"
      ],
      "metadata": {
        "id": "YSAx42lOLchv"
      }
    },
    {
      "cell_type": "code",
      "execution_count": null,
      "metadata": {
        "id": "ZZEQWVVaHCUD"
      },
      "outputs": [],
      "source": [
        "lista_ints = [1,2,4,1,4,4]"
      ]
    },
    {
      "cell_type": "code",
      "source": [
        "lista_floats = [3.45,3.7,4.6,45.5]"
      ],
      "metadata": {
        "id": "oc4e4w7qH1Yx"
      },
      "execution_count": null,
      "outputs": []
    },
    {
      "cell_type": "code",
      "source": [
        "lista_mixta = [True,3.45,[\"Hola\",454,False],\"no\",43]"
      ],
      "metadata": {
        "id": "ZP835jCDH524"
      },
      "execution_count": null,
      "outputs": []
    },
    {
      "cell_type": "code",
      "source": [
        "lista_mixta[2][1]"
      ],
      "metadata": {
        "colab": {
          "base_uri": "https://localhost:8080/"
        },
        "id": "faGQ-GUTJF8p",
        "outputId": "26e58cec-bb06-46be-9e20-5a73a5f577fb"
      },
      "execution_count": null,
      "outputs": [
        {
          "output_type": "execute_result",
          "data": {
            "text/plain": [
              "454"
            ]
          },
          "metadata": {},
          "execution_count": 31
        }
      ]
    },
    {
      "cell_type": "code",
      "source": [
        "print(lista_mixta[2])"
      ],
      "metadata": {
        "colab": {
          "base_uri": "https://localhost:8080/"
        },
        "id": "ITMkr_3QJWtz",
        "outputId": "7ef4c458-8655-4453-b2e5-4f7ff0b757d6"
      },
      "execution_count": null,
      "outputs": [
        {
          "output_type": "stream",
          "name": "stdout",
          "text": [
            "['Hola', 454, False]\n"
          ]
        }
      ]
    },
    {
      "cell_type": "code",
      "source": [
        "lista_mixta.append(\"M&S\")"
      ],
      "metadata": {
        "id": "Nds9OZzUKCqc"
      },
      "execution_count": null,
      "outputs": []
    },
    {
      "cell_type": "code",
      "source": [
        "lista_mixta.append(233432)"
      ],
      "metadata": {
        "id": "gZHcSeepJs0X"
      },
      "execution_count": null,
      "outputs": []
    },
    {
      "cell_type": "code",
      "source": [
        "lista_mixta"
      ],
      "metadata": {
        "colab": {
          "base_uri": "https://localhost:8080/"
        },
        "id": "_zT4l2orJwz_",
        "outputId": "2a50e5a8-b637-4e42-c139-6ae9f1ae300a"
      },
      "execution_count": null,
      "outputs": [
        {
          "output_type": "execute_result",
          "data": {
            "text/plain": [
              "[True, 3.45, ['Hola', 454, False], 'no', 43, 'M&S', 233432]"
            ]
          },
          "metadata": {},
          "execution_count": 35
        }
      ]
    },
    {
      "cell_type": "markdown",
      "source": [
        "Con la función pop() se elimina el último elemento de la lista"
      ],
      "metadata": {
        "id": "INMf1JlxKaA5"
      }
    },
    {
      "cell_type": "code",
      "source": [
        "lista_mixta.pop()"
      ],
      "metadata": {
        "colab": {
          "base_uri": "https://localhost:8080/"
        },
        "id": "kiei3pYFKGLR",
        "outputId": "e271592a-1432-43fe-be82-034858b1b62b"
      },
      "execution_count": null,
      "outputs": [
        {
          "output_type": "execute_result",
          "data": {
            "text/plain": [
              "233432"
            ]
          },
          "metadata": {},
          "execution_count": 36
        }
      ]
    },
    {
      "cell_type": "code",
      "source": [
        "lista_mixta"
      ],
      "metadata": {
        "colab": {
          "base_uri": "https://localhost:8080/"
        },
        "id": "VPkQdZN-KK3X",
        "outputId": "025dc01f-96ba-4b72-d622-60f78f5ecc72"
      },
      "execution_count": null,
      "outputs": [
        {
          "output_type": "execute_result",
          "data": {
            "text/plain": [
              "[True, 3.45, ['Hola', 454, False], 'no', 43, 'M&S']"
            ]
          },
          "metadata": {},
          "execution_count": 37
        }
      ]
    },
    {
      "cell_type": "markdown",
      "source": [
        "Si se le añade un parámetro al pop() ese indica el número dentro del índice que se eliminará"
      ],
      "metadata": {
        "id": "T8XvD2AHKWDW"
      }
    },
    {
      "cell_type": "code",
      "source": [
        "lista_mixta.pop(1)"
      ],
      "metadata": {
        "colab": {
          "base_uri": "https://localhost:8080/"
        },
        "id": "LbKSLwqXKUl5",
        "outputId": "8a24c477-1420-4bca-e230-2577b5eaf79d"
      },
      "execution_count": null,
      "outputs": [
        {
          "output_type": "execute_result",
          "data": {
            "text/plain": [
              "3.45"
            ]
          },
          "metadata": {},
          "execution_count": 38
        }
      ]
    },
    {
      "cell_type": "code",
      "source": [
        "lista_mixta"
      ],
      "metadata": {
        "colab": {
          "base_uri": "https://localhost:8080/"
        },
        "id": "7nRgk-yDKy4R",
        "outputId": "80029aad-62df-4a83-f6d9-854a8ee08100"
      },
      "execution_count": null,
      "outputs": [
        {
          "output_type": "execute_result",
          "data": {
            "text/plain": [
              "[True, ['Hola', 454, False], 'no', 43, 'M&S']"
            ]
          },
          "metadata": {},
          "execution_count": 39
        }
      ]
    },
    {
      "cell_type": "markdown",
      "source": [
        "##Diccionarios"
      ],
      "metadata": {
        "id": "umwdxUBILV1b"
      }
    },
    {
      "cell_type": "markdown",
      "source": [
        "Estructura:\n",
        "llave : valor"
      ],
      "metadata": {
        "id": "_9x9jn7qLg3P"
      }
    },
    {
      "cell_type": "code",
      "source": [
        "diccionario = {\n",
        "    \"llave_1\" : 1,\n",
        "    \"llave_2\" : 2,\n",
        "    \"llave_3\" : 3\n",
        "}"
      ],
      "metadata": {
        "id": "OJpcCl54LX_n"
      },
      "execution_count": null,
      "outputs": []
    },
    {
      "cell_type": "markdown",
      "source": [
        "Ejemplo"
      ],
      "metadata": {
        "id": "Yr6k0OutLzyk"
      }
    },
    {
      "cell_type": "code",
      "source": [
        "diccionario_numerico ={\n",
        "    1 : \"uno\",\n",
        "    2 : \"dos\",\n",
        "    3 : \"tres\"\n",
        "},"
      ],
      "metadata": {
        "id": "gx5mTLnXL0ou"
      },
      "execution_count": null,
      "outputs": []
    },
    {
      "cell_type": "code",
      "source": [
        "astro = {\n",
        "    \"Yoon Sanha\" : \"Vocalista, Bailarín y Maknae\",\n",
        "    \"Rocky\" : \"Rapero, Vocalista y Bailarín\",\n",
        "    \"Moon Bin\" : \"Vocalista y Bailarín\",\n",
        "    \"Cha Eun Woo\" : \"Vocalista y Bailarín\",\n",
        "    \"Jin Jin\" : \"Líder, Rapero, Vocalista y Bailarín\"\n",
        "}"
      ],
      "metadata": {
        "id": "MK6KW5n0M3Zi"
      },
      "execution_count": null,
      "outputs": []
    },
    {
      "cell_type": "markdown",
      "source": [
        "Para acceder a un elemento del diccionario, se escribe el nombre del diccionario y entre corchetes el valor de la llave"
      ],
      "metadata": {
        "id": "dxxZ7IEuMKBw"
      }
    },
    {
      "cell_type": "code",
      "source": [
        "astro['Cha Eun Woo']"
      ],
      "metadata": {
        "colab": {
          "base_uri": "https://localhost:8080/",
          "height": 36
        },
        "id": "j1P7aYZmMJtS",
        "outputId": "9a6383d2-a32f-4c42-a087-ab865386187f"
      },
      "execution_count": null,
      "outputs": [
        {
          "output_type": "execute_result",
          "data": {
            "text/plain": [
              "'Vocalista y Bailarín'"
            ],
            "application/vnd.google.colaboratory.intrinsic+json": {
              "type": "string"
            }
          },
          "metadata": {},
          "execution_count": 47
        }
      ]
    },
    {
      "cell_type": "markdown",
      "source": [
        "Agregar datos a nuestros diccionarios es bastante sencillo. Para agregar un dato, se realiza una asignación como ésta:"
      ],
      "metadata": {
        "id": "cRHPanrIN-k5"
      }
    },
    {
      "cell_type": "code",
      "source": [
        "astro['MJ'] = \"Vocalista y Bailarín\""
      ],
      "metadata": {
        "id": "_pKvh764OCb3"
      },
      "execution_count": null,
      "outputs": []
    },
    {
      "cell_type": "code",
      "source": [
        "astro['MJ']"
      ],
      "metadata": {
        "colab": {
          "base_uri": "https://localhost:8080/",
          "height": 36
        },
        "id": "Eh_JpOR_OO5K",
        "outputId": "54675708-9661-4f47-afba-5bddbfd91f6b"
      },
      "execution_count": null,
      "outputs": [
        {
          "output_type": "execute_result",
          "data": {
            "text/plain": [
              "'Vocalista y Bailarín'"
            ],
            "application/vnd.google.colaboratory.intrinsic+json": {
              "type": "string"
            }
          },
          "metadata": {},
          "execution_count": 51
        }
      ]
    },
    {
      "cell_type": "markdown",
      "source": [
        "También puedo modificar datos que ya se encuentran en mi diccionario. Para hacer esto, simplemente vuelvo a asignar el nuevo valor a la llave que quiero modificar."
      ],
      "metadata": {
        "id": "R9Oe8hvgOayR"
      }
    },
    {
      "cell_type": "code",
      "source": [
        "astro['Moon Bin'] = \"Vocalista y Bailarín principal\""
      ],
      "metadata": {
        "id": "bSjuYVyxOb0H"
      },
      "execution_count": null,
      "outputs": []
    },
    {
      "cell_type": "code",
      "source": [
        "astro[\"Moon Bin\"]"
      ],
      "metadata": {
        "colab": {
          "base_uri": "https://localhost:8080/",
          "height": 36
        },
        "id": "RGA-hz10OqLn",
        "outputId": "e4663d3e-45fb-42e4-8c52-3ced78211496"
      },
      "execution_count": null,
      "outputs": [
        {
          "output_type": "execute_result",
          "data": {
            "text/plain": [
              "'Vocalista y Bailarín principal'"
            ],
            "application/vnd.google.colaboratory.intrinsic+json": {
              "type": "string"
            }
          },
          "metadata": {},
          "execution_count": 53
        }
      ]
    },
    {
      "cell_type": "markdown",
      "source": [
        "Los valores de los diccionarios también pueden ser listas u otros diccionarios (¡Inception!). Por ejemplo, mira esto:"
      ],
      "metadata": {
        "id": "tDvCwTjSOxBR"
      }
    },
    {
      "cell_type": "code",
      "source": [
        "datos_compras = {\n",
        "    \"nombre\" : \"Juan\",\n",
        "    \"apellido_paterno\":\"Vargas\",\n",
        "    \"productos\" : [\"TV\",\"Play Station\"],\n",
        "    \"datos_facturacion\":{\n",
        "        \"calle\" : \"Noche Buena\",\n",
        "        \"colonia\" : \"Lomas de Buenavista\"\n",
        "    }\n",
        "}"
      ],
      "metadata": {
        "id": "Dh54AO5zOyPq"
      },
      "execution_count": null,
      "outputs": []
    },
    {
      "cell_type": "markdown",
      "source": [
        "En un caso como éste, también es posible modificar la lista y el diccionario que hay dentro. Es tan simple como pedir el valor y luego modificar ese valor (la lista o diccionario) con las técnicas que ya conocemos:"
      ],
      "metadata": {
        "id": "JiLWdljgQMLb"
      }
    },
    {
      "cell_type": "code",
      "source": [
        "datos_compras['productos'].append('Ipad')"
      ],
      "metadata": {
        "id": "W3vcLVI_QL0B"
      },
      "execution_count": null,
      "outputs": []
    },
    {
      "cell_type": "code",
      "source": [
        "datos_compras['datos_facturacion']['calle'] = 'Pino'"
      ],
      "metadata": {
        "id": "wGneNf-IQY42"
      },
      "execution_count": null,
      "outputs": []
    },
    {
      "cell_type": "code",
      "source": [
        "print(datos_compras)"
      ],
      "metadata": {
        "colab": {
          "base_uri": "https://localhost:8080/"
        },
        "id": "-7hdBKtWQj8m",
        "outputId": "28b99f6c-ac8d-4110-f458-54958cd55d26"
      },
      "execution_count": null,
      "outputs": [
        {
          "output_type": "stream",
          "name": "stdout",
          "text": [
            "{'nombre': 'Juan', 'apellido_paterno': 'Vargas', 'productos': ['TV', 'Play Station', 'Ipad'], 'datos_facturacion': {'calle': 'Pino', 'colonia': 'Lomas de Buenavista'}}\n"
          ]
        }
      ]
    },
    {
      "cell_type": "markdown",
      "source": [
        "##**Eliminar datos**\n",
        "\n",
        "Para finalizar nuestra exploración de diccionarios aprenderemos a eliminar datos de un diccionario."
      ],
      "metadata": {
        "id": "wsQ4fkgWQzB5"
      }
    },
    {
      "cell_type": "code",
      "source": [
        "astro.pop('Rocky')"
      ],
      "metadata": {
        "colab": {
          "base_uri": "https://localhost:8080/",
          "height": 36
        },
        "id": "IhxvGlOPQ2ZF",
        "outputId": "155db455-63cf-4288-b493-54cf486d0d40"
      },
      "execution_count": null,
      "outputs": [
        {
          "output_type": "execute_result",
          "data": {
            "text/plain": [
              "'Rapero, Vocalista y Bailarín'"
            ],
            "application/vnd.google.colaboratory.intrinsic+json": {
              "type": "string"
            }
          },
          "metadata": {},
          "execution_count": 59
        }
      ]
    },
    {
      "cell_type": "code",
      "source": [
        "print(astro)"
      ],
      "metadata": {
        "colab": {
          "base_uri": "https://localhost:8080/"
        },
        "id": "z1elxU_xRLt4",
        "outputId": "1e389fb3-5392-41c7-9391-a1c3e1afb52c"
      },
      "execution_count": null,
      "outputs": [
        {
          "output_type": "stream",
          "name": "stdout",
          "text": [
            "{'Yoon Sanha': 'Vocalista, Bailarín y Maknae', 'Moon Bin': 'Vocalista y Bailarín principal', 'Cha Eun Woo': 'Vocalista y Bailarín', 'Jin Jin': 'Líder, Rapero, Vocalista y Bailarín', 'MJ': 'Vocalista y Bailarín'}\n"
          ]
        }
      ]
    },
    {
      "cell_type": "markdown",
      "source": [
        "##**Funciones**"
      ],
      "metadata": {
        "id": "90dR8dJKRyda"
      }
    },
    {
      "cell_type": "code",
      "source": [
        "#Cantidad de alumnos estudianto en la UNAM\n",
        "#en el ciclo escolar 2019-2020\n",
        "total_de_alumnos = 360863\n",
        "alumnos_en_posgrado = 30634\n",
        "alumnos_en_licenciatura = 217808\n",
        "alumnos_de_bachillerato = 111569\n",
        "alumnos_en_prope_de_musica = 872"
      ],
      "metadata": {
        "id": "AZ1a3VOSR2pt"
      },
      "execution_count": null,
      "outputs": []
    },
    {
      "cell_type": "markdown",
      "source": [
        "Queremos saber el porcentaje del total de alumnos que estudian en cada uno de los distintos niveles. Un primer acercamiento podría ser éste:"
      ],
      "metadata": {
        "id": "psot5NwASr8f"
      }
    },
    {
      "cell_type": "code",
      "source": [
        "alumnos_en_posgrado_porc = alumnos_en_posgrado * 100/ total_de_alumnos\n",
        "alumnos_en_lec_porc = alumnos_en_licenciatura* 100/ total_de_alumnos\n",
        "alumnos_en_bach_porc = alumnos_de_bachillerato* 100/ total_de_alumnos\n",
        "alumnos_en_prope_music_porc = alumnos_en_prope_de_musica * 100/ total_de_alumnos\n",
        "##Pero es mucho código repetido, por eso es mejor crear una función\n"
      ],
      "metadata": {
        "id": "-NCB65nLSsi1"
      },
      "execution_count": null,
      "outputs": []
    },
    {
      "cell_type": "markdown",
      "source": [
        "Se define una función"
      ],
      "metadata": {
        "id": "6MalE1m-TltF"
      }
    },
    {
      "cell_type": "code",
      "source": [
        "def sumar_dos_a_numero(num):\n",
        "  suma = num + 2\n",
        "  return suma"
      ],
      "metadata": {
        "id": "FBF09Ge4TUqZ"
      },
      "execution_count": null,
      "outputs": []
    },
    {
      "cell_type": "markdown",
      "source": [
        "Se utiliza la función anterior"
      ],
      "metadata": {
        "id": "xmwG2D-_ToaJ"
      }
    },
    {
      "cell_type": "code",
      "source": [
        "suma_5_mas_2 = sumar_dos_a_numero(5)\n",
        "suma_5_mas_2"
      ],
      "metadata": {
        "colab": {
          "base_uri": "https://localhost:8080/"
        },
        "id": "jYc0msAMTn8J",
        "outputId": "72416b73-878e-46ff-8e06-a27548fa005c"
      },
      "execution_count": null,
      "outputs": [
        {
          "output_type": "execute_result",
          "data": {
            "text/plain": [
              "7"
            ]
          },
          "metadata": {},
          "execution_count": 67
        }
      ]
    },
    {
      "cell_type": "markdown",
      "source": [
        "##**Función para cuantificar porcentajes**"
      ],
      "metadata": {
        "id": "sxadXbt4UMde"
      }
    },
    {
      "cell_type": "code",
      "source": [
        "def calcular_porc(muestra,total):\n",
        "  porcentaje = muestra * 100 / total\n",
        "  return porcentaje"
      ],
      "metadata": {
        "id": "By2043SDUPnT"
      },
      "execution_count": null,
      "outputs": []
    },
    {
      "cell_type": "markdown",
      "source": [
        "Ahora se utilzia la función"
      ],
      "metadata": {
        "id": "wKlaNkWCUelr"
      }
    },
    {
      "cell_type": "code",
      "source": [
        "alumnos_en_posgrado_porc = calcular_porc(alumnos_en_posgrado,total_de_alumnos)\n",
        "alumnos_en_lic_porc = calcular_porc(alumnos_en_licenciatura,total_de_alumnos)\n",
        "alumnos_en_bach_porc = calcular_porc(alumnos_de_bachillerato,total_de_alumnos)\n",
        "alumnos_en_prope_music_porc = calcular_porc(alumnos_en_prope_de_musica,total_de_alumnos)"
      ],
      "metadata": {
        "id": "k30JsJloUhIM"
      },
      "execution_count": null,
      "outputs": []
    },
    {
      "cell_type": "markdown",
      "source": [
        "##**Contexto de las variables**"
      ],
      "metadata": {
        "id": "k-HUO6OFVrSY"
      }
    },
    {
      "cell_type": "code",
      "source": [
        "variable_global = \"Global\""
      ],
      "metadata": {
        "id": "LRUs3wstVto0"
      },
      "execution_count": null,
      "outputs": []
    }
  ]
}